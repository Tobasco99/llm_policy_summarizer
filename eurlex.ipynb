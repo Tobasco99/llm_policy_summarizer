{
 "cells": [
  {
   "cell_type": "code",
   "execution_count": 18,
   "metadata": {},
   "outputs": [
    {
     "name": "stdout",
     "output_type": "stream",
     "text": [
      "<Response [502]>\n"
     ]
    },
    {
     "ename": "AttributeError",
     "evalue": "'NoneType' object has no attribute 'get'",
     "output_type": "error",
     "traceback": [
      "\u001b[0;31m---------------------------------------------------------------------------\u001b[0m",
      "\u001b[0;31mAttributeError\u001b[0m                            Traceback (most recent call last)",
      "Cell \u001b[0;32mIn[18], line 40\u001b[0m\n\u001b[1;32m     36\u001b[0m \u001b[38;5;28mprint\u001b[39m(response)\n\u001b[1;32m     38\u001b[0m root \u001b[38;5;241m=\u001b[39m ET\u001b[38;5;241m.\u001b[39mfromstring(response\u001b[38;5;241m.\u001b[39mtext)\n\u001b[0;32m---> 40\u001b[0m celex_element \u001b[38;5;241m=\u001b[39m \u001b[43mroot\u001b[49m\u001b[38;5;241;43m.\u001b[39;49m\u001b[43mfind\u001b[49m\u001b[43m(\u001b[49m\u001b[38;5;124;43m'\u001b[39;49m\u001b[38;5;124;43mID_CELEX\u001b[39;49m\u001b[38;5;124;43m'\u001b[39;49m\u001b[43m)\u001b[49m\u001b[38;5;241;43m.\u001b[39;49m\u001b[43mget\u001b[49m()\n\u001b[1;32m     41\u001b[0m \u001b[38;5;28mprint\u001b[39m(celex_element)\n\u001b[1;32m     43\u001b[0m \u001b[38;5;28;01mif\u001b[39;00m celex_element \u001b[38;5;129;01mis\u001b[39;00m \u001b[38;5;129;01mnot\u001b[39;00m \u001b[38;5;28;01mNone\u001b[39;00m:\n",
      "\u001b[0;31mAttributeError\u001b[0m: 'NoneType' object has no attribute 'get'"
     ]
    }
   ],
   "source": [
    "import requests\n",
    "import xml.etree.ElementTree as ET\n",
    "from eurlex import get_html_by_celex_id\n",
    "\n",
    "\n",
    "url = \"https://eur-lex.europa.eu/EURLexWebService\"\n",
    "\n",
    "headers = {\n",
    "    \"Content-Type\": \"application/soap+xml;charset=UTF-8\",\n",
    "}\n",
    " \n",
    "payload = \"\"\"<?xml version=\\\"1.0\\\" encoding=\\\"utf-8\\\"?>\n",
    "            <soap:Envelope xmlns:soap=\"http://www.w3.org/2003/05/soap-envelope\" xmlns:sear=\"http://eur-lex.europa.eu/search\">\n",
    "    <soap:Header>\n",
    "        <wsse:Security xmlns:wsse=\"http://docs.oasis-open.org/wss/2004/01/oasis-200401-wss-wssecurity-secext-1.0.xsd\" soap:mustUnderstand=\"true\">\n",
    "            <wsse:UsernameToken xmlns:wsu=\"http://docs.oasis-open.org/wss/2004/01/oasis-200401-wss-wssecurity-utility-1.0.xsd\" wsu:Id=\"UsernameToken-1\">\n",
    "                <wsse:Username>n00f9vkm</wsse:Username>\n",
    "                <wsse:Password Type=\"http://docs.oasis-open.org/wss/2004/01/oasis-200401-wss-username-token-profile-1.0#PasswordText\">6EbVqkb6OVX</wsse:Password>\n",
    "            </wsse:UsernameToken>\n",
    "        </wsse:Security>\n",
    "    </soap:Header>\n",
    "    <soap:Body>\n",
    "        <sear:searchRequest>\n",
    "            <sear:expertQuery>\n",
    "                <![CDATA[Titel ~ 2021/535]]>\n",
    "            </sear:expertQuery>\n",
    "            <sear:page>1</sear:page>\n",
    "            <sear:pageSize>1</sear:pageSize>\n",
    "            <sear:searchLanguage>en</sear:searchLanguage>\n",
    "        </sear:searchRequest>\n",
    "    </soap:Body>\n",
    "</soap:Envelope>\"\"\"\n",
    "\n",
    "response = requests.request(\"POST\", url, headers=headers, data=payload)\n",
    " \n",
    "print(response)\n",
    "\n",
    "root = ET.fromstring(response.text)\n",
    "\n",
    "celex_element = root.find('ID_CELEX').get()\n",
    "print(celex_element)\n",
    "\n",
    "if celex_element is not None:\n",
    "    celex_id = celex_element[0].attrib\n",
    "    print(celex_id)\n",
    "    html_string = get_html_by_celex_id(celex_id)   \n",
    "    folder_path = \"out/\"\n",
    "    file_name = celex_id + \".html\"\n",
    "    file_path = folder_path + file_name\n",
    "\n",
    "    with open(file_path, \"w\") as file:\n",
    "        file.write(html_string)\n",
    "\n",
    "    print(\"HTML file saved successfully at:\", file_path)\n",
    "\n",
    "else:\n",
    "    print(\"ID_CELEX tag not found.\")\n"
   ]
  }
 ],
 "metadata": {
  "kernelspec": {
   "display_name": "summarize_env",
   "language": "python",
   "name": "python3"
  },
  "language_info": {
   "codemirror_mode": {
    "name": "ipython",
    "version": 3
   },
   "file_extension": ".py",
   "mimetype": "text/x-python",
   "name": "python",
   "nbconvert_exporter": "python",
   "pygments_lexer": "ipython3",
   "version": "3.11.7"
  }
 },
 "nbformat": 4,
 "nbformat_minor": 2
}
