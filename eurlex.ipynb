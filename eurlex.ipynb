{
 "cells": [
  {
   "cell_type": "code",
   "execution_count": 22,
   "metadata": {},
   "outputs": [
    {
     "name": "stdout",
     "output_type": "stream",
     "text": [
      "200\n",
      "HTML file saved successfully at: out/32021R0535.html\n"
     ]
    }
   ],
   "source": [
    "import requests\n",
    "import xml.etree.ElementTree as ET\n",
    "from eurlex import get_html_by_celex_id\n",
    "\n",
    "\n",
    "url = \"https://eur-lex.europa.eu/EURLexWebService\"\n",
    "\n",
    "headers = {\n",
    "    \"Content-Type\": \"application/soap+xml;charset=UTF-8\",\n",
    "}\n",
    " \n",
    "payload = \"\"\"<?xml version=\\\"1.0\\\" encoding=\\\"utf-8\\\"?>\n",
    "            <soap:Envelope xmlns:soap=\"http://www.w3.org/2003/05/soap-envelope\" xmlns:sear=\"http://eur-lex.europa.eu/search\">\n",
    "    <soap:Header>\n",
    "        <wsse:Security xmlns:wsse=\"http://docs.oasis-open.org/wss/2004/01/oasis-200401-wss-wssecurity-secext-1.0.xsd\" soap:mustUnderstand=\"true\">\n",
    "            <wsse:UsernameToken xmlns:wsu=\"http://docs.oasis-open.org/wss/2004/01/oasis-200401-wss-wssecurity-utility-1.0.xsd\" wsu:Id=\"UsernameToken-1\">\n",
    "                <wsse:Username>n00f9vkm</wsse:Username>\n",
    "                <wsse:Password Type=\"http://docs.oasis-open.org/wss/2004/01/oasis-200401-wss-username-token-profile-1.0#PasswordText\">6EbVqkb6OVX</wsse:Password>\n",
    "            </wsse:UsernameToken>\n",
    "        </wsse:Security>\n",
    "    </soap:Header>\n",
    "    <soap:Body>\n",
    "        <sear:searchRequest>\n",
    "            <sear:expertQuery>\n",
    "                <![CDATA[Titel ~ 2021/535]]>\n",
    "            </sear:expertQuery>\n",
    "            <sear:page>1</sear:page>\n",
    "            <sear:pageSize>1</sear:pageSize>\n",
    "            <sear:searchLanguage>en</sear:searchLanguage>\n",
    "        </sear:searchRequest>\n",
    "    </soap:Body>\n",
    "</soap:Envelope>\"\"\"\n",
    "\n",
    "response = requests.request(\"POST\", url, headers=headers, data=payload)\n",
    "\n",
    "if response.status_code is not 200:\n",
    "    raise Exception(\"Error accessing EUR-Lex service\")\n",
    "    \n",
    "\n",
    "namespaces = {\n",
    "    'soap': 'http://www.w3.org/2003/05/soap-envelope',\n",
    "    'sear': 'http://eur-lex.europa.eu/search'\n",
    "}\n",
    "\n",
    "root = ET.fromstring(response.text)\n",
    "celex_element = root.find('.//sear:ID_CELEX', namespaces) \n",
    "\n",
    "celex_value = celex_element[0].text if celex_element is not None else None\n",
    "\n",
    "if celex_value is not None:\n",
    "    html_string = get_html_by_celex_id(celex_value)   \n",
    "    folder_path = \"out/\"\n",
    "    file_name = celex_value + \".html\"\n",
    "    file_path = folder_path + file_name\n",
    "\n",
    "    with open(file_path, \"w\") as file:\n",
    "        file.write(html_string)\n",
    "\n",
    "    print(\"HTML file saved successfully at:\", file_path)\n",
    "\n",
    "else:\n",
    "    print(\"ID_CELEX tag not found.\")\n"
   ]
  }
 ],
 "metadata": {
  "kernelspec": {
   "display_name": "summarize_env",
   "language": "python",
   "name": "python3"
  },
  "language_info": {
   "codemirror_mode": {
    "name": "ipython",
    "version": 3
   },
   "file_extension": ".py",
   "mimetype": "text/x-python",
   "name": "python",
   "nbconvert_exporter": "python",
   "pygments_lexer": "ipython3",
   "version": "3.11.7"
  }
 },
 "nbformat": 4,
 "nbformat_minor": 2
}
