{
 "cells": [
  {
   "cell_type": "code",
   "execution_count": 13,
   "metadata": {},
   "outputs": [
    {
     "data": {
      "text/plain": [
       "[Document(page_content='<p class=\"oj-doc-ti\">laying down rules for the application of Regulation (EU) 2019/2144 of the European Parliament and of the Council as regards uniform procedures and technical specifications for the type-approval of vehicles, and of systems, components and separate technical units intended for such vehicles, as regards their general construction characteristics and safety</p>\\n            <p class=\"oj-doc-ti\">(Text with EEA relevance)</p>\\n         </div>'),\n",
       " Document(page_content='<div class=\"eli-subdivision\" id=\"pbl_1\">\\n            <p class=\"oj-normal\">THE EUROPEAN COMMISSION,</p>\\n            <div class=\"eli-subdivision\" id=\"cit_1\">\\n               <p class=\"oj-normal\">Having regard to the Treaty on the Functioning of the European Union,</p>\\n            </div>'),\n",
       " Document(page_content='<div class=\"eli-subdivision\" id=\"cit_2\">'),\n",
       " Document(page_content='<p class=\"oj-normal\">Having regard to Regulation (EU) 2019/2144 of the European Parliament and of the Council of 27 November 2019 on type-approval requirements for motor vehicles and their trailers, and systems, components and separate technical units intended for such vehicles, as regards their general safety and the protection of vehicle occupants and vulnerable road users, amending Regulation (EU) 2018/858 of the European Parliament and of the Council and repealing Regulations (EC) No 78/2009'),\n",
       " Document(page_content=', (EC) No 79/2009 and (EC) No 661/2009 of the European Parliament and of the Council and Commission Regulations (EC) No 631/2009, (EU) No 406/2010, (EU) No 672/2010, (EU) No 1003/2010, (EU) No 1005/2010, (EU) No 1008/2010, (EU) No 1009/2010, (EU) No 19/2011, (EU) No 109/2011, (EU) No 458/2011, (EU) No 65/2012, (EU) No 130/2012, (EU) 347/2012, (EU) No 351/2012, (EU) No 1230/2012 and (EU) 2015/166\\xa0<a id=\"ntc1-L_2021117EN.01000101-E0001\" href=\"#ntr1-L_2021117EN.01000101-E0001\"')]"
      ]
     },
     "execution_count": 13,
     "metadata": {},
     "output_type": "execute_result"
    }
   ],
   "source": [
    "from langchain.text_splitter import (\n",
    "    Language,\n",
    "    RecursiveCharacterTextSplitter,\n",
    ")\n",
    "from helper.eurlex_loader import get_html_by_title \n",
    "\n",
    "res = get_html_by_title(\"2021/535\")\n",
    "html_splitter = RecursiveCharacterTextSplitter.from_language(\n",
    "    language=Language.HTML, chunk_size=500, chunk_overlap=0\n",
    ")\n",
    "html_docs = html_splitter.create_documents([res])\n",
    "html_docs[5:10]\n"
   ]
  }
 ],
 "metadata": {
  "kernelspec": {
   "display_name": "summarize_env",
   "language": "python",
   "name": "python3"
  },
  "language_info": {
   "name": "python",
   "version": "3.11.7"
  }
 },
 "nbformat": 4,
 "nbformat_minor": 2
}
