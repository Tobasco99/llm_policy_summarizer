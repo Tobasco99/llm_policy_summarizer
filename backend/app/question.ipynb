{
 "cells": [
  {
   "cell_type": "code",
   "execution_count": 1,
   "metadata": {},
   "outputs": [
    {
     "name": "stdout",
     "output_type": "stream",
     "text": [
      "Intel MKL WARNING: Support of Intel(R) Streaming SIMD Extensions 4.2 (Intel(R) SSE4.2) enabled only processors has been deprecated. Intel oneAPI Math Kernel Library 2025.0 will require Intel(R) Advanced Vector Extensions (Intel(R) AVX) instructions.\n",
      "Intel MKL WARNING: Support of Intel(R) Streaming SIMD Extensions 4.2 (Intel(R) SSE4.2) enabled only processors has been deprecated. Intel oneAPI Math Kernel Library 2025.0 will require Intel(R) Advanced Vector Extensions (Intel(R) AVX) instructions.\n",
      "{'questions': [{'question': \"What does 'EU type-approvals' refer to in the context of vehicle regulations?\", 'answers': ['A. Certifications for food and beverage products within the EU', 'B. Approvals for environmental standards in manufacturing', 'C. Certifications granted to vehicles and components meeting specific EU standards', 'D. General business licenses required within the EU'], 'correct_answer': 'C. Certifications granted to vehicles and components meeting specific EU standards'}, {'question': \"What is the significance of 'implementing measures' in EU regulations?\", 'answers': ['A. They are suggestions for future laws to be considered by the EU', 'B. They are detailed rules that ensure the uniform application of a regulation', 'C. They refer to financial measures to support EU member states', 'D. They are international agreements outside the EU'], 'correct_answer': 'B. They are detailed rules that ensure the uniform application of a regulation'}, {'question': \"What does the term 'delegated acts' imply within the context of EU legislative processes?\", 'answers': ['A. Acts that delegate responsibility from the EU to member states', 'B. Non-binding recommendations made by the EU Parliament', 'C. Legal acts that allow the EU Commission to supplement or amend non-essential parts of EU legislation', 'D. Public acts that delegate budgeting powers to local governments'], 'correct_answer': 'C. Legal acts that allow the EU Commission to supplement or amend non-essential parts of EU legislation'}]}\n"
     ]
    }
   ],
   "source": [
    "from service.language_model_connection import LanguageModelConnection, LanguageModel\n",
    "\n",
    "llm = LanguageModelConnection(LanguageModel.GPT_4, \"key\")\n",
    "chunk = \"1. This Regulation shall not invalidate any EU type-approvals granted to vehicles, systems, components or separate technical units which were granted in accordance with Regulation (EC) No <ent>78/2009</ent><ent_desc>This Regulation lays down requirements for the construction and functioning of motor vehicles and frontal protection systems in order to reduce the number and severity of injuries to pedestrians and other vulnerable road users who are hit by the fronts of vehicles and in order to avoid such collisions.</ent_desc>, Regulation (EC) No <ent>79/2009</ent><ent_desc>This Regulation establishes requirements for the type-approval of motor vehicles with regard to hydrogen propulsion and for the type-approval of hydrogen components and hydrogen systems. This Regulation also establishes requirements for the installation of such components and systems.</ent_desc> or Regulation (EC) No <ent>661/2009</ent><ent_desc>This Regulation establishes requirements: 1. for the type-approval of motor vehicles, their trailers and systems, components and separate technical units intended therefor with regard to their safety, 2. for the type-approval of motor vehicles, in respect of tyre pressure monitoring systems, with regard to their safety, fuel efficiency and CO2 emissions and, in respect of gear shift indicators, with regard to their fuel efficiency and CO2 emissions; and 3. for the type-approval of newly-manufactured tyres with regard to their safety, rolling resistance performance and rolling noise emissions.</ent_desc> and their implementing measures, by 5 July 2022, unless the relevant requirements applying to such vehicles, systems, components or separate technical units have been modified, or new requirements have been added, by this Regulation and the delegated acts adopted pursuant to it, as further specified in the implementing acts adopted pursuant to this Regulation.\"\n",
    "\n",
    "print(llm.generate_questionnaire(chunk))"
   ]
  },
  {
   "cell_type": "code",
   "execution_count": 2,
   "metadata": {},
   "outputs": [
    {
     "name": "stdout",
     "output_type": "stream",
     "text": [
      "{'stakeholder': ['motor vehicle manufacturers', 'system and component manufacturers'], 'key_information': ['Existing EU type-approvals for vehicles and related components remain valid unless modified by new requirements.', 'Regulation (EC) No 78/2009 focuses on reducing injuries to pedestrians from vehicle fronts.', 'Regulation (EC) No 79/2009 deals with hydrogen propulsion and component type-approval in vehicles.', 'Regulation (EC) No 661/2009 covers safety and efficiency standards for vehicles and their components, including tyres.'], 'chunk_summary': 'Motor vehicle manufacturers and system/component manufacturers are affected by the stipulation that existing EU type-approvals will remain valid unless new or modified requirements are introduced. This includes regulations focusing on pedestrian safety, hydrogen propulsion systems, and safety and efficiency standards for vehicles and components.'}\n"
     ]
    }
   ],
   "source": [
    "chunk = \"1. This Regulation shall not invalidate any EU type-approvals granted to vehicles, systems, components or separate technical units which were granted in accordance with Regulation (EC) No <ent>78/2009</ent><ent_desc>This Regulation lays down requirements for the construction and functioning of motor vehicles and frontal protection systems in order to reduce the number and severity of injuries to pedestrians and other vulnerable road users who are hit by the fronts of vehicles and in order to avoid such collisions.</ent_desc>, Regulation (EC) No <ent>79/2009</ent><ent_desc>This Regulation establishes requirements for the type-approval of motor vehicles with regard to hydrogen propulsion and for the type-approval of hydrogen components and hydrogen systems. This Regulation also establishes requirements for the installation of such components and systems.</ent_desc> or Regulation (EC) No <ent>661/2009</ent><ent_desc>This Regulation establishes requirements: 1. for the type-approval of motor vehicles, their trailers and systems, components and separate technical units intended therefor with regard to their safety, 2. for the type-approval of motor vehicles, in respect of tyre pressure monitoring systems, with regard to their safety, fuel efficiency and CO2 emissions and, in respect of gear shift indicators, with regard to their fuel efficiency and CO2 emissions; and 3. for the type-approval of newly-manufactured tyres with regard to their safety, rolling resistance performance and rolling noise emissions.</ent_desc> and their implementing measures, by 5 July 2022, unless the relevant requirements applying to such vehicles, systems, components or separate technical units have been modified, or new requirements have been added, by this Regulation and the delegated acts adopted pursuant to it, as further specified in the implementing acts adopted pursuant to this Regulation.\"\n",
    "print(llm.generate_chunk_summary(chunk))"
   ]
  },
  {
   "cell_type": "code",
   "execution_count": 2,
   "metadata": {},
   "outputs": [
    {
     "name": "stdout",
     "output_type": "stream",
     "text": [
      "doc nr.  0\n",
      "injected\n",
      "summary generated\n",
      "doc nr.  1\n",
      "injected\n",
      "summary generated\n",
      "doc nr.  2\n",
      "Entity not found: 182/2011\n",
      "Entity not found: 182/2011\n",
      "Entity not found: 182/2011\n",
      "Entity not found: 78/2009\n",
      "Entity not found: 79/2009\n",
      "Entity not found: 661/2009\n",
      "injected\n",
      "summary generated\n",
      "doc nr.  3\n",
      "injected\n",
      "summary generated\n",
      "doc nr.  4\n",
      "injected\n",
      "summary generated\n",
      "doc nr.  5\n",
      "Entity not found: 021/1958\n",
      "Entity not found: 021/1243\n",
      "Entity not found: 021/1341\n",
      "injected\n",
      "summary generated\n",
      "doc nr.  6\n",
      "injected\n",
      "summary generated\n",
      "The regulation mandates that all new vehicles and their components meet stringent safety and environmental standards through type-approval. It defines specific systems and components like tyre pressure monitors and intelligent speed assistance, ensuring they adhere to detailed technical specifications. Vehicle manufacturers are responsible for compliance, which aims to enhance the safety of vehicle occupants and vulnerable road users, while also integrating advanced vehicle systems across all motor vehicle categories.The regulation mandates that all new vehicles and their components meet stringent safety and environmental standards through type-approval. It defines specific systems and components like tyre pressure monitors and intelligent speed assistance, ensuring they adhere to detailed technical specifications. Vehicle manufacturers are responsible for compliance, which aims to enhance the safety of vehicle occupants and vulnerable road users, while also integrating advanced vehicle systems across all motor vehicle categories. Additionally, the policy focuses on enhancing vehicle safety through advanced systems like driver drowsiness detection, event data recorders, and emergency response systems. These systems are designed to protect data privacy, prevent misuse, and improve road safety for all users, including vulnerable groups. Manufacturers are required to comply with strict data handling and system design regulations to ensure both safety and privacy. Key systems such as advanced emergency braking and lane-keeping are mandated to be non-deactivatable and must provide reliable operation. Event data recorders are required to record specific data such as vehicle speed and safety system status during collisions and must be designed to protect data against misuse. Regulations specify that data from event recorders can only be used for accident research and must comply with privacy regulations. Vehicles must also be designed to enhance visibility of vulnerable road users and to be accessible by persons with reduced mobility.The regulation mandates that all new vehicles and their components meet stringent safety and environmental standards through type-approval. It defines specific systems and components like tyre pressure monitors and intelligent speed assistance, ensuring they adhere to detailed technical specifications. Vehicle manufacturers are responsible for compliance, which aims to enhance the safety of vehicle occupants and vulnerable road users, while also integrating advanced vehicle systems across all motor vehicle categories. Additionally, the policy focuses on enhancing vehicle safety through advanced systems like driver drowsiness detection, event data recorders, and emergency response systems. These systems are designed to protect data privacy, prevent misuse, and improve road safety for all users, including vulnerable groups. Manufacturers are required to comply with strict data handling and system design regulations to ensure both safety and privacy. Key systems such as advanced emergency braking and lane-keeping are mandated to be non-deactivatable and must provide reliable operation. Event data recorders are required to record specific data such as vehicle speed and safety system status during collisions and must be designed to protect data against misuse. Regulations specify that data from event recorders can only be used for accident research and must comply with privacy regulations. Vehicles must also be designed to enhance visibility of vulnerable road users and to be accessible by persons with reduced mobility. The Commission is set to adopt implementing and delegated acts to establish uniform procedures and technical specifications for hydrogen-powered and automated vehicles, with significant involvement from the European Parliament, Council, and Member States. These regulations aim to enhance vehicle safety and compliance, supported by regular evaluations and reports on the implementation progress. Stakeholders like the Technical Committee - Motor Vehicles play a crucial role in advising and assisting the Commission.The regulation mandates that all new vehicles and their components meet stringent safety and environmental standards through type-approval. It defines specific systems and components like tyre pressure monitors and intelligent speed assistance, ensuring they adhere to detailed technical specifications. Vehicle manufacturers are responsible for compliance, which aims to enhance the safety of vehicle occupants and vulnerable road users, while also integrating advanced vehicle systems across all motor vehicle categories. Additionally, the policy focuses on enhancing vehicle safety through advanced systems like driver drowsiness detection, event data recorders, and emergency response systems. These systems are designed to protect data privacy, prevent misuse, and improve road safety for all users, including vulnerable groups. Manufacturers are required to comply with strict data handling and system design regulations to ensure both safety and privacy. Key systems such as advanced emergency braking and lane-keeping are mandated to be non-deactivatable and must provide reliable operation. Event data recorders are required to record specific data such as vehicle speed and safety system status during collisions and must be designed to protect data against misuse. Regulations specify that data from event recorders can only be used for accident research and must comply with privacy regulations. Vehicles must also be designed to enhance visibility of vulnerable road users and to be accessible by persons with reduced mobility. The Commission is set to adopt implementing and delegated acts to establish uniform procedures and technical specifications for hydrogen-powered and automated vehicles, with significant involvement from the European Parliament, Council, and Member States. These regulations aim to enhance vehicle safety and compliance, supported by regular evaluations and reports on the implementation progress. Stakeholders like the Technical Committee - Motor Vehicles play a crucial role in advising and assisting the Commission. The policy document outlines various amendments and compliance requirements for vehicle manufacturers and national authorities under the EU Regulation 2018/858 and UN Regulations. It specifies mandatory compliance dates and conditions under which older type-approvals may or may not be accepted. Key requirements include the fitting of specific vehicle components and adherence to updated type-approval standards to ensure vehicles meet current safety and regulatory standards.The regulation mandates that all new vehicles and their components meet stringent safety and environmental standards through type-approval. It defines specific systems and components like tyre pressure monitors and intelligent speed assistance, ensuring they adhere to detailed technical specifications. Vehicle manufacturers are responsible for compliance, which aims to enhance the safety of vehicle occupants and vulnerable road users, while also integrating advanced vehicle systems across all motor vehicle categories. Additionally, the policy focuses on enhancing vehicle safety through advanced systems like driver drowsiness detection, event data recorders, and emergency response systems. These systems are designed to protect data privacy, prevent misuse, and improve road safety for all users, including vulnerable groups. Manufacturers are required to comply with strict data handling and system design regulations to ensure both safety and privacy. Key systems such as advanced emergency braking and lane-keeping are mandated to be non-deactivatable and must provide reliable operation. Event data recorders are required to record specific data such as vehicle speed and safety system status during collisions and must be designed to protect data against misuse. Regulations specify that data from event recorders can only be used for accident research and must comply with privacy regulations. Vehicles must also be designed to enhance visibility of vulnerable road users and to be accessible by persons with reduced mobility. The Commission is set to adopt implementing and delegated acts to establish uniform procedures and technical specifications for hydrogen-powered and automated vehicles, with significant involvement from the European Parliament, Council, and Member States. These regulations aim to enhance vehicle safety and compliance, supported by regular evaluations and reports on the implementation progress. Stakeholders like the Technical Committee - Motor Vehicles play a crucial role in advising and assisting the Commission. The policy document outlines various amendments and compliance requirements for vehicle manufacturers and national authorities under the EU Regulation 2018/858 and UN Regulations. It specifies mandatory compliance dates and conditions under which older type-approvals may or may not be accepted. Key requirements include the fitting of specific vehicle components and adherence to updated type-approval standards to ensure vehicles meet current safety and regulatory standards. The document also outlines amendments to Annex II of Regulation (EU) 2018/858, including the insertion of a new entry after item 54A and the replacement of entries for items 65 and 66. No specific stakeholders are mentioned directly in the text.The regulation mandates that all new vehicles and their components meet stringent safety and environmental standards through type-approval. It defines specific systems and components like tyre pressure monitors, intelligent speed assistance, and includes advanced systems such as driver drowsiness detection, event data recorders, and emergency response systems. These systems are designed to protect data privacy, prevent misuse, and enhance road safety for all users, including vulnerable groups. Vehicle manufacturers are responsible for compliance, aiming to enhance the safety of vehicle occupants and vulnerable road users, while integrating advanced vehicle systems across all motor vehicle categories. The policy document outlines various amendments and compliance requirements for vehicle manufacturers and national authorities under the EU Regulation 2018/858 and UN Regulations. It specifies mandatory compliance dates and conditions under which older type-approvals may or may not be accepted. Key requirements include the fitting of specific vehicle components and adherence to updated type-approval standards to ensure vehicles meet current safety and regulatory standards. Additionally, the document discusses the automation of vehicle control systems, the provision of real-time information to drivers, and the Universal International Whole Vehicle Type Approval under UN regulations, ensuring compliance with updated safety and operational standards for different vehicle categories. The Commission is set to adopt implementing and delegated acts to establish uniform procedures and technical specifications for hydrogen-powered and automated vehicles, with significant involvement from the European Parliament, Council, and Member States. These regulations aim to enhance vehicle safety and compliance, supported by regular evaluations and reports on the implementation progress. Stakeholders like the Technical Committee - Motor Vehicles play a crucial role in advising and assisting the Commission.The regulation mandates that all new vehicles and their components meet stringent safety and environmental standards through type-approval. It defines specific systems and components like tyre pressure monitors, intelligent speed assistance, and includes advanced systems such as driver drowsiness detection, event data recorders, and emergency response systems. These systems are designed to protect data privacy, prevent misuse, and enhance road safety for all users, including vulnerable groups. Vehicle manufacturers are responsible for compliance, aiming to enhance the safety of vehicle occupants and vulnerable road users, while integrating advanced vehicle systems across all motor vehicle categories. The policy document outlines various amendments and compliance requirements for vehicle manufacturers and national authorities under the EU Regulation 2018/858 and UN Regulations. It specifies mandatory compliance dates and conditions under which older type-approvals may or may not be accepted. Key requirements include the fitting of specific vehicle components and adherence to updated type-approval standards to ensure vehicles meet current safety and regulatory standards. Additionally, the document discusses the automation of vehicle control systems, the provision of real-time information to drivers, and the Universal International Whole Vehicle Type Approval under UN regulations, ensuring compliance with updated safety and operational standards for different vehicle categories. The Commission is set to adopt implementing and delegated acts to establish uniform procedures and technical specifications for hydrogen-powered and automated vehicles, with significant involvement from the European Parliament, Council, and Member States. These regulations aim to enhance vehicle safety and compliance, supported by regular evaluations and reports on the implementation progress. Stakeholders like the Technical Committee - Motor Vehicles play a crucial role in advising and assisting the Commission. The policy also outlines specific dates for the prohibition of vehicle registration and the entry of components into the market, starting from 6 July 2022, with an extension to 7 July 2024. It specifies the refusal to grant EU type-approval from these dates, affecting vehicle and component manufacturers directly as the policy details regulatory requirements for various vehicle features and components.\n"
     ]
    }
   ],
   "source": [
    "from io import BytesIO\n",
    "from service.splitter import load_and_split_text\n",
    "from service.knowledge_injection import inject_knowledge\n",
    "from service.language_model_connection import KnowledgeLevel\n",
    "from service.language_model_connection import LanguageModelConnection, LanguageModel\n",
    "\n",
    "llm = LanguageModelConnection(LanguageModel.GPT_4, \"key\")\n",
    "\n",
    "with open(\"tmp/CELEX_02019R2144-20220905_EN_TXT.pdf.tei.xml\", \"rb\") as fh:\n",
    "    buf = BytesIO(fh.read())\n",
    "\n",
    "docs = load_and_split_text(text=buf.getvalue(), chunk_size=15000, chunk_overlap=0, splitter_type=\"Text Structure\")\n",
    "summarys = []\n",
    "\n",
    "for i,doc in enumerate(docs):\n",
    "    print(\"doc nr. \", i)\n",
    "    doc = inject_knowledge(doc)\n",
    "    summarys.append(llm.generate_chunk_summary(doc))\n",
    "\n",
    "summary = llm.generate_policy_summary(summarys, knowledge_level=KnowledgeLevel.NO.value)\n",
    "print(summary)"
   ]
  }
 ],
 "metadata": {
  "kernelspec": {
   "display_name": "summarize_env",
   "language": "python",
   "name": "python3"
  },
  "language_info": {
   "codemirror_mode": {
    "name": "ipython",
    "version": 3
   },
   "file_extension": ".py",
   "mimetype": "text/x-python",
   "name": "python",
   "nbconvert_exporter": "python",
   "pygments_lexer": "ipython3",
   "version": "3.12.2"
  }
 },
 "nbformat": 4,
 "nbformat_minor": 2
}
