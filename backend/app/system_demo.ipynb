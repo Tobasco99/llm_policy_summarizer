{
 "cells": [
  {
   "cell_type": "markdown",
   "metadata": {},
   "source": [
    "### Requirements\n",
    "To run this jupyter notebook yourself, first make sure that you have python v.3.11 installed on your system, together with the pip package manager.\n",
    "As a first step you need to run `pip install -r requirements.txt`."
   ]
  },
  {
   "cell_type": "markdown",
   "metadata": {},
   "source": [
    "### Import\n",
    "Next all necessary functions will be imported.\n",
    "For this example the GPT-4 model will be used. Please enter your OpenAI key in the cell below."
   ]
  },
  {
   "cell_type": "code",
   "execution_count": null,
   "metadata": {},
   "outputs": [],
   "source": [
    "from service.language_model_connection import LanguageModelConnection, LanguageModel\n",
    "from io import BytesIO\n",
    "from service.splitter import load_and_split_text\n",
    "from service.knowledge_injection import inject_knowledge\n",
    "from service.language_model_connection import KnowledgeLevel\n",
    "from service.language_model_connection import LanguageModelConnection, LanguageModel\n",
    "\n",
    "llm = LanguageModelConnection(LanguageModel.GPT_4, \"ENTER YOUR API KEY\")"
   ]
  },
  {
   "cell_type": "markdown",
   "metadata": {},
   "source": [
    "### Determining the prior knowledge\n",
    "As a help for the user, it is possible to use a questionnaire to determine the prior knowledge on regulation texts of a user. For this a questionnaire can be generated."
   ]
  },
  {
   "cell_type": "code",
   "execution_count": 2,
   "metadata": {},
   "outputs": [
    {
     "name": "stdout",
     "output_type": "stream",
     "text": [
      "{'questions': [{'question': \"What does 'EU type-approvals' refer to in the context of vehicle regulations?\", 'answers': ['A. Certifications for food and beverage products within the EU', 'B. Approvals for vehicle designs that meet specific EU safety and environmental standards', 'C. General business licenses required for operating within the EU', 'D. Permits for the construction of manufacturing facilities in the EU'], 'correct_answer': 'B. Approvals for vehicle designs that meet specific EU safety and environmental standards'}, {'question': 'What is the primary purpose of regulations that focus on the construction and functioning of motor vehicles and their systems?', 'answers': ['A. To ensure aesthetic consistency of vehicles across the EU', 'B. To regulate the prices of vehicles and components in the market', 'C. To enhance the safety and environmental performance of vehicles', 'D. To monopolize vehicle manufacturing within certain EU countries'], 'correct_answer': 'C. To enhance the safety and environmental performance of vehicles'}, {'question': \"What does 'type-approval' generally imply in the context of vehicle regulations?\", 'answers': ['A. Approval of the vehicle type by any international organization', 'B. Certification that a vehicle, system, or component meets specified requirements', 'C. A public vote approving a new type of vehicle design', 'D. A legal agreement between competing manufacturers to standardize vehicle types'], 'correct:answer': 'B. Certification that a vehicle, system, or component meets specified requirements'}]}\n"
     ]
    }
   ],
   "source": [
    "chunk = \"1. This Regulation shall not invalidate any EU type-approvals granted to vehicles, systems, components or separate technical units which were granted in accordance with Regulation (EC) No <ent>78/2009</ent><ent_desc>This Regulation lays down requirements for the construction and functioning of motor vehicles and frontal protection systems in order to reduce the number and severity of injuries to pedestrians and other vulnerable road users who are hit by the fronts of vehicles and in order to avoid such collisions.</ent_desc>, Regulation (EC) No <ent>79/2009</ent><ent_desc>This Regulation establishes requirements for the type-approval of motor vehicles with regard to hydrogen propulsion and for the type-approval of hydrogen components and hydrogen systems. This Regulation also establishes requirements for the installation of such components and systems.</ent_desc> or Regulation (EC) No <ent>661/2009</ent><ent_desc>This Regulation establishes requirements: 1. for the type-approval of motor vehicles, their trailers and systems, components and separate technical units intended therefor with regard to their safety, 2. for the type-approval of motor vehicles, in respect of tyre pressure monitoring systems, with regard to their safety, fuel efficiency and CO2 emissions and, in respect of gear shift indicators, with regard to their fuel efficiency and CO2 emissions; and 3. for the type-approval of newly-manufactured tyres with regard to their safety, rolling resistance performance and rolling noise emissions.</ent_desc> and their implementing measures, by 5 July 2022, unless the relevant requirements applying to such vehicles, systems, components or separate technical units have been modified, or new requirements have been added, by this Regulation and the delegated acts adopted pursuant to it, as further specified in the implementing acts adopted pursuant to this Regulation.\"\n",
    "\n",
    "print(llm.generate_questionnaire(chunk))"
   ]
  },
  {
   "cell_type": "markdown",
   "metadata": {},
   "source": [
    "### Chunk Summary\n",
    "As an intermediate step in the summarization process, a summary for each chunk is generated. This chunk summary consists of the stakeholders involved, all important information of the chunk and a complete summary of the chunk."
   ]
  },
  {
   "cell_type": "code",
   "execution_count": 3,
   "metadata": {},
   "outputs": [
    {
     "name": "stdout",
     "output_type": "stream",
     "text": [
      "{'stakeholder': ['vehicle manufacturers', 'system and component manufacturers'], 'key_information': ['Existing EU type-approvals for vehicles and related components remain valid unless modified by new requirements.', 'Regulation (EC) No 78/2009 focuses on reducing injuries to pedestrians from vehicle fronts.', 'Regulation (EC) No 79/2009 deals with hydrogen propulsion and components in vehicles.', 'Regulation (EC) No 661/2009 covers vehicle safety, fuel efficiency, and emissions standards.', 'Changes or additions in requirements by new regulations or delegated acts may affect existing approvals.'], 'chunk_summary': 'The current regulation ensures that previously granted EU type-approvals for vehicles, systems, and components remain valid unless they are specifically modified or supplemented by new requirements. This includes standards for pedestrian safety, hydrogen propulsion systems, and vehicle emissions and safety. Vehicle and component manufacturers need to stay informed about these regulatory changes to ensure compliance.'}\n"
     ]
    }
   ],
   "source": [
    "print(llm.generate_chunk_summary(chunk))"
   ]
  },
  {
   "cell_type": "markdown",
   "metadata": {},
   "source": [
    "### Full Summary\n",
    "As a last step the full workflow is tested. Here, a file is split into chunks, knowledge gets injected, and a final summary is generated. In this example a user without prior knowledge is used."
   ]
  },
  {
   "cell_type": "code",
   "execution_count": 4,
   "metadata": {},
   "outputs": [
    {
     "data": {
      "text/plain": [
       "'The policy document outlines the obligations of vehicle manufacturers to ensure that new vehicles and components meet safety and environmental standards through type-approval processes. It defines various terms related to vehicle safety and mandates the inclusion of advanced vehicle systems to enhance safety and compliance. Key stakeholders include manufacturers, vehicle occupants, and vulnerable road users, with a focus on improving vehicle safety and environmental performance. Specifically, manufacturers are responsible for ensuring that vehicles comply with specific safety standards and technical requirements. The document also mandates the inclusion of advanced vehicle systems such as event data recorders and intelligent speed assistance, as well as provisions for tyre pressure monitoring systems and the environmental performance of tyres.The policy document outlines the obligations of vehicle manufacturers to ensure that new vehicles and components meet safety and environmental standards through type-approval processes. It defines various terms related to vehicle safety and mandates the inclusion of advanced vehicle systems to enhance safety and compliance. Key stakeholders include manufacturers, vehicle occupants, and vulnerable road users, with a focus on improving vehicle safety and environmental performance. Specifically, manufacturers are responsible for ensuring that vehicles comply with specific safety standards and technical requirements. The document also mandates the inclusion of advanced vehicle systems such as event data recorders, intelligent speed assistance, and driver drowsiness and distraction warning systems, as well as provisions for tyre pressure monitoring systems and the environmental performance of tyres. These systems are designed to operate effectively without compromising user privacy or safety, ensuring that data is used solely for safety analysis and is protected against misuse. Additionally, vehicles must be accessible and safe for all users, including vulnerable road users and those with reduced mobility, with features designed to enhance visibility and safety. Advanced emergency braking and lane-keeping systems must be non-deactivatable by the driver and should operate normally upon vehicle start.The policy document establishes comprehensive guidelines for the type-approval of hydrogen-powered and automated vehicles, detailing uniform procedures and technical specifications. These specifications encompass material compatibility, fueling receptacles, and advanced vehicle systems such as event data recorders, driver availability monitoring systems, and data exchange for vehicle platooning. It mandates vehicle manufacturers to ensure new vehicles meet safety and environmental standards, incorporating systems like intelligent speed assistance and tyre pressure monitoring to enhance safety and compliance. The document highlights the roles of the European Parliament, the Council, and the Commission in the legislative process, particularly in adopting and potentially revoking delegated acts. Additionally, it maintains that existing EU type-approvals will remain valid unless modified by new requirements and allows Member States to permit registration of non-compliant vehicles until specified dates. Annual reports are required to assess vehicle safety standards and propose necessary amendments, ensuring continuous improvement in vehicle safety and environmental performance. Key stakeholders include vehicle manufacturers, component manufacturers, technical unit manufacturers, vehicle occupants, and vulnerable road users, all focused on advancing vehicle safety and environmental integrity.The policy document outlines comprehensive obligations and guidelines for vehicle manufacturers and national authorities to ensure that new vehicles and components meet stringent safety and environmental standards through type-approval processes. It defines various terms related to vehicle safety and mandates the inclusion of advanced vehicle systems such as event data recorders, intelligent speed assistance, and driver drowsiness and distraction warning systems to enhance safety and compliance. Key stakeholders include manufacturers, vehicle occupants, and vulnerable road users, with a focus on improving vehicle safety and environmental performance. The document specifies conditions under which newer amendments to UN Regulations are accepted, including mandatory compliance dates and the equivalency of type-approvals with EU standards. It also details mandatory safety installations, vehicle modification guidelines, and emphasizes the importance of adhering to specified dates for vehicle registrations and component services. Additionally, the document establishes guidelines for the type-approval of hydrogen-powered and automated vehicles, detailing uniform procedures and technical specifications. It highlights the roles of the European Parliament, the Council, and the Commission in the legislative process, particularly in adopting and potentially revoking delegated acts. Existing EU type-approvals will remain valid unless modified by new requirements, and Member States may permit registration of non-compliant vehicles until specified dates. Annual reports are required to assess vehicle safety standards and propose necessary amendments, ensuring continuous improvement in vehicle safety and environmental performance.The policy document outlines comprehensive obligations and guidelines for vehicle manufacturers and national authorities to ensure that new vehicles and components meet stringent safety and environmental standards through type-approval processes. It defines various terms related to vehicle safety and mandates the inclusion of advanced vehicle systems such as event data recorders, intelligent speed assistance, and driver drowsiness and distraction warning systems to enhance safety and compliance. Key stakeholders include manufacturers, vehicle occupants, and vulnerable road users, with a focus on improving vehicle safety and environmental performance. The document specifies conditions under which newer amendments to UN Regulations are accepted, including mandatory compliance dates and the equivalency of type-approvals with EU standards. It also details mandatory safety installations, vehicle modification guidelines, and emphasizes the importance of adhering to specified dates for vehicle registrations and component services. Additionally, the document establishes guidelines for the type-approval of hydrogen-powered and automated vehicles, detailing uniform procedures and technical specifications. It highlights the roles of the European Parliament, the Council, and the Commission in the legislative process, particularly in adopting and potentially revoking delegated acts. Existing EU type-approvals will remain valid unless modified by new requirements, and Member States may permit registration of non-compliant vehicles until specified dates. Annual reports are required to assess vehicle safety standards and propose necessary amendments, ensuring continuous improvement in vehicle safety and environmental performance. Furthermore, the document outlines amendments to Annex II of Regulation (EU) 2018/858, specifically updating the table in Part I by inserting new entries and replacing entries for certain items, enhancing the clarity and applicability of the regulation.The policy document establishes comprehensive guidelines for vehicle manufacturers and national authorities to ensure that new vehicles and components meet stringent safety and environmental standards through type-approval processes. It defines various terms related to vehicle safety and mandates the inclusion of advanced vehicle systems such as event data recorders, intelligent speed assistance, driver drowsiness and distraction warning systems, and emergency stop signals to enhance safety and compliance. Key stakeholders include manufacturers, vehicle occupants, and vulnerable road users, with a focus on improving vehicle safety and environmental performance. The document specifies conditions under which newer amendments to UN Regulations are accepted, including mandatory compliance dates and the equivalency of type-approvals with EU standards. It also details mandatory safety installations, vehicle modification guidelines, and emphasizes the importance of adhering to specified dates for vehicle registrations and component services. Additionally, the document establishes guidelines for the type-approval of hydrogen-powered and automated vehicles, detailing uniform procedures and technical specifications. It highlights the roles of the European Parliament, the Council, and the Commission in the legislative process, particularly in adopting and potentially revoking delegated acts. Existing EU type-approvals will remain valid unless modified by new requirements, and Member States may permit registration of non-compliant vehicles until specified dates. Annual reports are required to assess vehicle safety standards and propose necessary amendments, ensuring continuous improvement in vehicle safety and environmental performance. Furthermore, the document outlines amendments to Annex II of Regulation (EU) 2018/858, specifically updating the table in Part I by inserting new entries and replacing entries for certain items, enhancing the clarity and applicability of the regulation.The policy document establishes comprehensive guidelines for vehicle manufacturers and national authorities to ensure that new vehicles and components meet stringent safety and environmental standards through type-approval processes. It defines various terms related to vehicle safety and mandates the inclusion of advanced vehicle systems such as event data recorders, intelligent speed assistance, and driver drowsiness and distraction warning systems to enhance safety and compliance. Key stakeholders include manufacturers, vehicle occupants, and vulnerable road users, with a focus on improving vehicle safety and environmental performance. The document specifies conditions under which newer amendments to UN Regulations are accepted, including mandatory compliance dates and the equivalency of type-approvals with EU standards. It also details mandatory safety installations, vehicle modification guidelines, and emphasizes the importance of adhering to specified dates for vehicle registrations and component services. Additionally, the document establishes guidelines for the type-approval of hydrogen-powered and automated vehicles, detailing uniform procedures and technical specifications. It highlights the roles of the European Parliament, the Council, and the Commission in the legislative process, particularly in adopting and potentially revoking delegated acts. Existing EU type-approvals will remain valid unless modified by new requirements, and Member States may permit registration of non-compliant vehicles until specified dates. Annual reports are required to assess vehicle safety standards and propose necessary amendments, ensuring continuous improvement in vehicle safety and environmental performance. Furthermore, the document outlines amendments to Annex II of Regulation (EU) 2018/858, specifically updating the table in Part I by inserting new entries and replacing entries for certain items, enhancing the clarity and applicability of the regulation.'"
      ]
     },
     "metadata": {},
     "output_type": "display_data"
    }
   ],
   "source": [
    "with open(\"tmp/CELEX_02019R2144-20220905_EN_TXT.pdf.tei.xml\", \"rb\") as fh:\n",
    "    buf = BytesIO(fh.read())\n",
    "\n",
    "# split the text into chunks\n",
    "docs = load_and_split_text(text=buf.getvalue(), chunk_size=15000, chunk_overlap=0, splitter_type=\"Text Structure\")\n",
    "summarys = []\n",
    "\n",
    "# inject knowledge and generate chunk summaries\n",
    "for i,doc in enumerate(docs):\n",
    "    doc = inject_knowledge(doc)\n",
    "    summarys.append(llm.generate_chunk_summary(doc))\n",
    "\n",
    "# generate full summary for no prior knowledge\n",
    "summary = llm.generate_policy_summary(summarys, knowledge_level=KnowledgeLevel.NO.name)\n",
    "display(summary)"
   ]
  }
 ],
 "metadata": {
  "kernelspec": {
   "display_name": "summarize_env",
   "language": "python",
   "name": "python3"
  },
  "language_info": {
   "codemirror_mode": {
    "name": "ipython",
    "version": 3
   },
   "file_extension": ".py",
   "mimetype": "text/x-python",
   "name": "python",
   "nbconvert_exporter": "python",
   "pygments_lexer": "ipython3",
   "version": "3.12.2"
  }
 },
 "nbformat": 4,
 "nbformat_minor": 2
}
