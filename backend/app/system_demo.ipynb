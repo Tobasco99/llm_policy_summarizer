{
 "cells": [
  {
   "cell_type": "markdown",
   "metadata": {},
   "source": [
    "### Requirements\n",
    "To run this jupyter notebook yourself, first make sure that you have python v.3.11 installed on your system, together with the pip package manager.\n",
    "As a first step you need to run `pip install -r requirements.txt`."
   ]
  },
  {
   "cell_type": "markdown",
   "metadata": {},
   "source": [
    "### Import\n",
    "Next all necessary functions will be imported.\n",
    "For this example the GPT-4 model will be used. Please enter your OpenAI key in the cell below."
   ]
  },
  {
   "cell_type": "code",
   "execution_count": null,
   "metadata": {},
   "outputs": [],
   "source": [
    "from io import BytesIO\n",
    "from service.splitter import load_and_split_text\n",
    "from service.knowledge_injection import inject_knowledge\n",
    "from service.language_model_connection import KnowledgeLevel\n",
    "from service.language_model_connection import LanguageModelConnection, LanguageModel\n",
    "from service.language_model_connection import LanguageModelConnection, LanguageModel\n",
    "\n",
    "llm = LanguageModelConnection(LanguageModel.GPT_4, \"ENTER YOUR API KEY HERE\")"
   ]
  },
  {
   "cell_type": "markdown",
   "metadata": {},
   "source": [
    "### Determining the prior knowledge\n",
    "As a help for the user, it is possible to use a questionnaire to determine the prior knowledge on regulation texts of a user. For this a questionnaire can be generated."
   ]
  },
  {
   "cell_type": "code",
   "execution_count": 2,
   "metadata": {},
   "outputs": [
    {
     "name": "stdout",
     "output_type": "stream",
     "text": [
      "{'questions': [{'question': \"What does 'EU type-approvals' refer to in the context of vehicle regulations?\", 'answers': ['A. Certifications for food safety', 'B. Approvals for vehicle designs according to EU standards', 'C. Permissions for exporting vehicles outside the EU', 'D. Licenses for driving in the EU'], 'correct_answer': 'B. Approvals for vehicle designs according to EU standards'}, {'question': 'What is the primary purpose of implementing measures in vehicle regulations?', 'answers': ['A. To increase the cost of vehicle production', 'B. To standardize driving rules across the EU', 'C. To ensure compliance with updated safety and efficiency standards', 'D. To restrict the import of non-EU vehicles'], 'correct:answer': 'C. To ensure compliance with updated safety and efficiency standards'}, {'question': \"What does the term 'delegated acts' imply in the context of EU regulations?\", 'answers': ['A. Acts performed by temporary delegates in the EU parliament', 'B. Specific powers granted to local governments under EU law', 'C. Non-essential administrative tasks within the EU', 'D. Legal instruments allowing the EU Commission to specify details of a regulation'], 'correct_answer': 'D. Legal instruments allowing the EU Commission to specify details of a regulation'}]}\n"
     ]
    }
   ],
   "source": [
    "chunk = \"1. This Regulation shall not invalidate any EU type-approvals granted to vehicles, systems, components or separate technical units which were granted in accordance with Regulation (EC) No <ent>78/2009</ent><ent_desc>This Regulation lays down requirements for the construction and functioning of motor vehicles and frontal protection systems in order to reduce the number and severity of injuries to pedestrians and other vulnerable road users who are hit by the fronts of vehicles and in order to avoid such collisions.</ent_desc>, Regulation (EC) No <ent>79/2009</ent><ent_desc>This Regulation establishes requirements for the type-approval of motor vehicles with regard to hydrogen propulsion and for the type-approval of hydrogen components and hydrogen systems. This Regulation also establishes requirements for the installation of such components and systems.</ent_desc> or Regulation (EC) No <ent>661/2009</ent><ent_desc>This Regulation establishes requirements: 1. for the type-approval of motor vehicles, their trailers and systems, components and separate technical units intended therefor with regard to their safety, 2. for the type-approval of motor vehicles, in respect of tyre pressure monitoring systems, with regard to their safety, fuel efficiency and CO2 emissions and, in respect of gear shift indicators, with regard to their fuel efficiency and CO2 emissions; and 3. for the type-approval of newly-manufactured tyres with regard to their safety, rolling resistance performance and rolling noise emissions.</ent_desc> and their implementing measures, by 5 July 2022, unless the relevant requirements applying to such vehicles, systems, components or separate technical units have been modified, or new requirements have been added, by this Regulation and the delegated acts adopted pursuant to it, as further specified in the implementing acts adopted pursuant to this Regulation.\"\n",
    "\n",
    "print(llm.generate_questionnaire(chunk))"
   ]
  },
  {
   "cell_type": "markdown",
   "metadata": {},
   "source": [
    "### Chunk Summary\n",
    "As an intermediate step in the summarization process, a summary for each chunk is generated. This chunk summary consists of the stakeholders involved, all important information of the chunk and a complete summary of the chunk."
   ]
  },
  {
   "cell_type": "code",
   "execution_count": 3,
   "metadata": {},
   "outputs": [
    {
     "name": "stdout",
     "output_type": "stream",
     "text": [
      "{'stakeholder': ['vehicle manufacturers', 'system and component manufacturers'], 'key_information': ['Existing EU type-approvals for vehicles and related components remain valid unless modified by new requirements.', 'Regulation (EC) No 78/2009 focuses on reducing injuries to pedestrians from vehicle fronts.', 'Regulation (EC) No 79/2009 deals with hydrogen propulsion systems in vehicles.', 'Regulation (EC) No 661/2009 covers safety, fuel efficiency, and emissions standards for vehicles and their components.', 'Changes or additions to requirements by new regulations or delegated acts may invalidate existing approvals after 5 July 2022.'], 'chunk_summary': 'Existing EU type-approvals for vehicles, systems, and components will continue to be valid unless there are modifications or additions to the requirements by new regulations or delegated acts. These include standards for pedestrian safety, hydrogen propulsion systems, and vehicle safety and emissions. Vehicle and system manufacturers are directly affected by these regulations, which aim to enhance safety and environmental standards.'}\n"
     ]
    }
   ],
   "source": [
    "print(llm.generate_chunk_summary(chunk))"
   ]
  },
  {
   "cell_type": "markdown",
   "metadata": {},
   "source": [
    "### Full Summary\n",
    "As a last step the full workflow is tested. Here, a file is split into chunks, knowledge gets injected, and a final summary is generated. In this example a user without prior knowledge is used. You can change the XML file, by putting it into the tmp folder and changing the file path."
   ]
  },
  {
   "cell_type": "code",
   "execution_count": 4,
   "metadata": {},
   "outputs": [
    {
     "data": {
      "text/plain": [
       "\"The regulation mandates type-approval for new vehicles and components, focusing on safety, environmental performance, and advanced vehicle systems. It specifies detailed requirements for systems like tyre pressure monitoring and intelligent speed assistance. Vehicle manufacturers must ensure compliance with these requirements to enhance the safety of vehicle occupants and vulnerable road users. Additionally, the regulation outlines the necessity for manufacturers to minimize injury risks and adhere to technical requirements. It also introduces mandatory advanced vehicle systems such as event data recorders and intelligent speed assistance for all motor vehicles. Furthermore, implementing acts will establish uniform procedures and technical specifications for type-approval to ensure consistency and reliability in vehicle safety standards.The regulation mandates type-approval for new vehicles and components, focusing on safety, environmental performance, and advanced vehicle systems. It specifies detailed requirements for systems like tyre pressure monitoring and intelligent speed assistance. Vehicle manufacturers must ensure compliance with these requirements to enhance the safety of vehicle occupants and vulnerable road users. Additionally, the regulation outlines the necessity for manufacturers to minimize injury risks and adhere to technical requirements. It also introduces mandatory advanced vehicle systems such as event data recorders and intelligent speed assistance for all motor vehicles. Furthermore, implementing acts will establish uniform procedures and technical specifications for type-approval to ensure consistency and reliability in vehicle safety standards. The policy also emphasizes stringent data privacy and functionality requirements for vehicle systems like driver drowsiness and event data recorders, ensuring they operate within closed-loop systems without external data access. It mandates advanced safety features in vehicles, including obstacle detection and emergency lane-keeping, to enhance road safety for all users, including vulnerable groups. The regulation specifies that detailed technical standards and approval processes will be established through future implementing acts, ensuring vehicles meet high safety and operational standards.The regulation mandates type-approval for new vehicles and components, focusing on safety, environmental performance, and advanced vehicle systems such as tyre pressure monitoring and intelligent speed assistance. Vehicle manufacturers must ensure compliance with these requirements to enhance the safety of vehicle occupants and vulnerable road users. Additionally, the regulation outlines the necessity for manufacturers to minimize injury risks and adhere to technical requirements. It introduces mandatory advanced vehicle systems such as event data recorders and intelligent speed assistance for all motor vehicles. Furthermore, implementing acts will establish uniform procedures and technical specifications for type-approval to ensure consistency and reliability in vehicle safety standards. The European Commission will adopt both implementing and delegated acts to set uniform procedures and technical specifications for hydrogen-powered and automated vehicles, ensuring their safety and compliance. Assisted by the Technical Committee - Motor Vehicles, these regulations will be reviewed and reported annually, maintaining oversight on vehicle safety standards and the effectiveness of new safety systems. Member States and vehicle manufacturers must adhere to these specifications, with existing approvals maintained unless directly affected by new or modified requirements. The policy also emphasizes stringent data privacy and functionality requirements for vehicle systems like driver drowsiness and event data recorders, ensuring they operate within closed-loop systems without external data access. It mandates advanced safety features in vehicles, including obstacle detection and emergency lane-keeping, to enhance road safety for all users, including vulnerable groups. The regulation specifies that detailed technical standards and approval processes will be established through future implementing acts, ensuring vehicles meet high safety and operational standards.The regulation mandates type-approval for new vehicles and components, focusing on safety, environmental performance, and advanced vehicle systems such as tyre pressure monitoring and intelligent speed assistance. Vehicle manufacturers must ensure compliance with these requirements to enhance the safety of vehicle occupants and vulnerable road users. Additionally, the regulation outlines the necessity for manufacturers to minimize injury risks and adhere to technical requirements. It introduces mandatory advanced vehicle systems such as event data recorders and intelligent speed assistance for all motor vehicles. Furthermore, implementing acts will establish uniform procedures and technical specifications for type-approval to ensure consistency and reliability in vehicle safety standards. The European Commission will adopt both implementing and delegated acts to set uniform procedures and technical specifications for hydrogen-powered and automated vehicles, ensuring their safety and compliance. Assisted by the Technical Committee - Motor Vehicles, these regulations will be reviewed and reported annually, maintaining oversight on vehicle safety standards and the effectiveness of new safety systems. Member States and vehicle manufacturers must adhere to these specifications, with existing approvals maintained unless directly affected by new or modified requirements. The policy also emphasizes stringent data privacy and functionality requirements for vehicle systems like driver drowsiness and event data recorders, ensuring they operate within closed-loop systems without external data access. It mandates advanced safety features in vehicles, including obstacle detection and emergency lane-keeping, to enhance road safety for all users, including vulnerable groups. The regulation specifies that detailed technical standards and approval processes will be established through future implementing acts, ensuring vehicles meet high safety and operational standards. The document also outlines amendments related to vehicle regulations, emphasizing compliance with published versions and alternatives provided in the EU's Official Journal. It specifies mandatory compliance dates and conditions under which national authorities must regard certificates of conformity. Additionally, it mandates specific safety installations for certain vehicle categories and equates certain UN Regulation series type-approvals with EU type-approvals, affecting vehicle manufacturers, national authorities, and Contracting Parties to the Revised 1958 Agreement.The regulation mandates type-approval for new vehicles and components, focusing on safety, environmental performance, and advanced vehicle systems such as tyre pressure monitoring and intelligent speed assistance. Vehicle manufacturers must ensure compliance with these requirements to enhance the safety of vehicle occupants and vulnerable road users. Additionally, the regulation outlines the necessity for manufacturers to minimize injury risks and adhere to technical requirements. It introduces mandatory advanced vehicle systems such as event data recorders and intelligent speed assistance for all motor vehicles. Furthermore, implementing acts will establish uniform procedures and technical specifications for type-approval to ensure consistency and reliability in vehicle safety standards. The European Commission will adopt both implementing and delegated acts to set uniform procedures and technical specifications for hydrogen-powered and automated vehicles, ensuring their safety and compliance. Assisted by the Technical Committee - Motor Vehicles, these regulations will be reviewed and reported annually, maintaining oversight on vehicle safety standards and the effectiveness of new safety systems. Member States and vehicle manufacturers must adhere to these specifications, with existing approvals maintained unless directly affected by new or modified requirements. The policy also emphasizes stringent data privacy and functionality requirements for vehicle systems like driver drowsiness and event data recorders, ensuring they operate within closed-loop systems without external data access. It mandates advanced safety features in vehicles, including obstacle detection and emergency lane-keeping, to enhance road safety for all users, including vulnerable groups. The regulation specifies that detailed technical standards and approval processes will be established through future implementing acts, ensuring vehicles meet high safety and operational standards. The document also outlines amendments related to vehicle regulations, emphasizing compliance with published versions and alternatives provided in the EU's Official Journal. It specifies mandatory compliance dates and conditions under which national authorities must regard certificates of conformity. Additionally, it mandates specific safety installations for certain vehicle categories and equates certain UN Regulation series type-approvals with EU type-approvals, affecting vehicle manufacturers, national authorities, and Contracting Parties to the Revised 1958 Agreement. The document details amendments to Annex II of Regulation (EU) 2018/858, specifically the insertion of a new entry after item 54A and the replacement of entries for items 65 and 66. No specific stakeholders are mentioned directly in the text.The regulation mandates type-approval for new vehicles and components, focusing on safety, environmental performance, and advanced vehicle systems such as tyre pressure monitoring and intelligent speed assistance. Vehicle manufacturers must ensure compliance with these requirements to enhance the safety of vehicle occupants and vulnerable road users. Additionally, the regulation outlines the necessity for manufacturers to minimize injury risks and adhere to technical requirements. It introduces mandatory advanced vehicle systems such as event data recorders and intelligent speed assistance for all motor vehicles. Furthermore, implementing acts will establish uniform procedures and technical specifications for type-approval to ensure consistency and reliability in vehicle safety standards. The European Commission will adopt both implementing and delegated acts to set uniform procedures and technical specifications for hydrogen-powered and automated vehicles, ensuring their safety and compliance. Assisted by the Technical Committee - Motor Vehicles, these regulations will be reviewed and reported annually, maintaining oversight on vehicle safety standards and the effectiveness of new safety systems. Member States and vehicle manufacturers must adhere to these specifications, with existing approvals maintained unless directly affected by new or modified requirements. The policy also emphasizes stringent data privacy and functionality requirements for vehicle systems like driver drowsiness and event data recorders, ensuring they operate within closed-loop systems without external data access. It mandates advanced safety features in vehicles, including obstacle detection and emergency lane-keeping, to enhance road safety for all users, including vulnerable groups. The regulation specifies that detailed technical standards and approval processes will be established through future implementing acts, ensuring vehicles meet high safety and operational standards. The document also outlines amendments related to vehicle regulations, emphasizing compliance with published versions and alternatives provided in the EU's Official Journal. It specifies mandatory compliance dates and conditions under which national authorities must regard certificates of conformity. Additionally, it mandates specific safety installations for certain vehicle categories and equates certain UN Regulation series type-approvals with EU type-approvals, affecting vehicle manufacturers, national authorities, and Contracting Parties to the Revised 1958 Agreement. The document details amendments to Annex II of Regulation (EU) 2018/858, specifically the insertion of a new entry after item 54A and the replacement of entries for items 65 and 66. No specific stakeholders are mentioned directly in the text.The regulation mandates type-approval for new vehicles and components, focusing on safety, environmental performance, and advanced vehicle systems such as tyre pressure monitoring and intelligent speed assistance. Vehicle manufacturers must ensure compliance with these requirements to enhance the safety of vehicle occupants and vulnerable road users. Additionally, the regulation outlines the necessity for manufacturers to minimize injury risks and adhere to technical requirements. It introduces mandatory advanced vehicle systems such as event data recorders and intelligent speed assistance for all motor vehicles. Furthermore, implementing acts will establish uniform procedures and technical specifications for type-approval to ensure consistency and reliability in vehicle safety standards. The European Commission will adopt both implementing and delegated acts to set uniform procedures and technical specifications for hydrogen-powered and automated vehicles, ensuring their safety and compliance. Assisted by the Technical Committee - Motor Vehicles, these regulations will be reviewed and reported annually, maintaining oversight on vehicle safety standards and the effectiveness of new safety systems. Member States and vehicle manufacturers must adhere to these specifications, with existing approvals maintained unless directly affected by new or modified requirements. The policy also emphasizes stringent data privacy and functionality requirements for vehicle systems like driver drowsiness and event data recorders, ensuring they operate within closed-loop systems without external data access. It mandates advanced safety features in vehicles, including obstacle detection and emergency lane-keeping, to enhance road safety for all users, including vulnerable groups. The regulation specifies that detailed technical standards and approval processes will be established through future implementing acts, ensuring vehicles meet high safety and operational standards. The document also outlines amendments related to vehicle regulations, emphasizing compliance with published versions and alternatives provided in the EU's Official Journal. It specifies mandatory compliance dates and conditions under which national authorities must regard certificates of conformity. Additionally, it mandates specific safety installations for certain vehicle categories and equates certain UN Regulation series type-approvals with EU type-approvals, affecting vehicle manufacturers, national authorities, and Contracting Parties to the Revised 1958 Agreement. The document details amendments to Annex II of Regulation (EU) 2018/858, specifically the insertion of a new entry after item 54A and the replacement of entries for items 65 and 66. No specific stakeholders are mentioned directly in the text. The policy outlines specific dates for the prohibition of vehicle registration and the entry of components into the market, starting from 6 July 2022, with an extension to 7 July 2024. It also details the refusal to grant EU type-approval from these dates. Vehicle and component manufacturers are directly affected, as the policy specifies technical provisions and regulatory requirements for various vehicle components and features.\""
      ]
     },
     "metadata": {},
     "output_type": "display_data"
    }
   ],
   "source": [
    "# Change file location here\n",
    "with open(\"tmp/CELEX_02019R2144-20220905_EN_TXT.pdf.tei.xml\", \"rb\") as fh:\n",
    "    buf = BytesIO(fh.read())\n",
    "\n",
    "# split the text into chunks\n",
    "docs = load_and_split_text(text=buf.getvalue(), chunk_size=15000, chunk_overlap=0, splitter_type=\"Text Structure\")\n",
    "summarys = []\n",
    "\n",
    "# inject knowledge and generate chunk summaries\n",
    "for i,doc in enumerate(docs):\n",
    "    doc = inject_knowledge(doc)\n",
    "    summarys.append(llm.generate_chunk_summary(doc))\n",
    "\n",
    "# generate full summary for no prior knowledge\n",
    "# available knowledge levels are: NO, BASIC and EXPERT\n",
    "summary = llm.generate_policy_summary(summarys, knowledge_level=KnowledgeLevel.NO.name)\n",
    "display(summary)"
   ]
  }
 ],
 "metadata": {
  "kernelspec": {
   "display_name": "summarize_env",
   "language": "python",
   "name": "python3"
  },
  "language_info": {
   "codemirror_mode": {
    "name": "ipython",
    "version": 3
   },
   "file_extension": ".py",
   "mimetype": "text/x-python",
   "name": "python",
   "nbconvert_exporter": "python",
   "pygments_lexer": "ipython3",
   "version": "3.12.2"
  }
 },
 "nbformat": 4,
 "nbformat_minor": 2
}
