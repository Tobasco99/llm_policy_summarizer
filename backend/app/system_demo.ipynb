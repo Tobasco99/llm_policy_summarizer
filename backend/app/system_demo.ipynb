{
 "cells": [
  {
   "cell_type": "markdown",
   "metadata": {},
   "source": [
    "### Requirements\n",
    "To run this jupyter notebook yourself, first make sure that you have python v.3.11 installed on your system, together with the pip package manager.\n",
    "As a first step you need to run `pip install -r requirements.txt`."
   ]
  },
  {
   "cell_type": "markdown",
   "metadata": {},
   "source": [
    "### Import\n",
    "Next all necessary functions will be imported.\n",
    "For this example the GPT-4 model will be used. Please enter your OpenAI key in the cell below."
   ]
  },
  {
   "cell_type": "code",
   "execution_count": null,
   "metadata": {},
   "outputs": [],
   "source": [
    "from service.language_model_connection import LanguageModelConnection, LanguageModel\n",
    "from io import BytesIO\n",
    "from service.splitter import load_and_split_text\n",
    "from service.knowledge_injection import inject_knowledge\n",
    "from service.language_model_connection import KnowledgeLevel\n",
    "from service.language_model_connection import LanguageModelConnection, LanguageModel\n",
    "\n",
    "llm = LanguageModelConnection(LanguageModel.GPT_4, \"ENTER KEY HERE\")"
   ]
  },
  {
   "cell_type": "markdown",
   "metadata": {},
   "source": [
    "### Determining the prior knowledge\n",
    "As a help for the user, it is possible to use a questionnaire to determine the prior knowledge on regulation texts of a user. For this a questionnaire can be generated."
   ]
  },
  {
   "cell_type": "code",
   "execution_count": 2,
   "metadata": {},
   "outputs": [
    {
     "name": "stdout",
     "output_type": "stream",
     "text": [
      "{'questions': [{'question': \"What does 'EU type-approvals' refer to in the context of vehicle regulations?\", 'answers': [\"A. EU's general approval for vehicle use in any context\", 'B. Certifications granted to vehicles meeting specific EU standards', 'C. Approval for EU funding for vehicle manufacturers', \"D. EU's annual vehicle inspection requirement\"], 'correct_answer': 'B. Certifications granted to vehicles meeting specific EU standards'}, {'question': 'What is the primary purpose of implementing measures in vehicle regulations?', 'answers': ['A. To increase the cost of vehicle production', 'B. To ensure compliance with updated safety and efficiency standards', 'C. To restrict the import of non-EU vehicles', 'D. To promote the use of public transportation'], 'correct_answer': 'B. To ensure compliance with updated safety and efficiency standards'}, {'question': \"What does the term 'delegated acts' imply within the context of EU regulations?\", 'answers': ['A. Acts performed by temporary delegates in the EU parliament', 'B. Legal acts that allow the EU to delegate responsibility to member states', 'C. Non-binding recommendations made by the EU to member states', 'D. Legal acts that supplement or amend certain non-essential parts of EU legislation'], 'correct_answer': 'D. Legal acts that supplement or amend certain non-essential parts of EU legislation'}]}\n"
     ]
    }
   ],
   "source": [
    "chunk = \"1. This Regulation shall not invalidate any EU type-approvals granted to vehicles, systems, components or separate technical units which were granted in accordance with Regulation (EC) No <ent>78/2009</ent><ent_desc>This Regulation lays down requirements for the construction and functioning of motor vehicles and frontal protection systems in order to reduce the number and severity of injuries to pedestrians and other vulnerable road users who are hit by the fronts of vehicles and in order to avoid such collisions.</ent_desc>, Regulation (EC) No <ent>79/2009</ent><ent_desc>This Regulation establishes requirements for the type-approval of motor vehicles with regard to hydrogen propulsion and for the type-approval of hydrogen components and hydrogen systems. This Regulation also establishes requirements for the installation of such components and systems.</ent_desc> or Regulation (EC) No <ent>661/2009</ent><ent_desc>This Regulation establishes requirements: 1. for the type-approval of motor vehicles, their trailers and systems, components and separate technical units intended therefor with regard to their safety, 2. for the type-approval of motor vehicles, in respect of tyre pressure monitoring systems, with regard to their safety, fuel efficiency and CO2 emissions and, in respect of gear shift indicators, with regard to their fuel efficiency and CO2 emissions; and 3. for the type-approval of newly-manufactured tyres with regard to their safety, rolling resistance performance and rolling noise emissions.</ent_desc> and their implementing measures, by 5 July 2022, unless the relevant requirements applying to such vehicles, systems, components or separate technical units have been modified, or new requirements have been added, by this Regulation and the delegated acts adopted pursuant to it, as further specified in the implementing acts adopted pursuant to this Regulation.\"\n",
    "\n",
    "print(llm.generate_questionnaire(chunk))"
   ]
  },
  {
   "cell_type": "markdown",
   "metadata": {},
   "source": [
    "### Chunk Summary\n",
    "As an intermediate step in the summarization process, a summary for each chunk is generated. This chunk summary consists of the stakeholders involved, all important information of the chunk and a complete summary of the chunk."
   ]
  },
  {
   "cell_type": "code",
   "execution_count": 3,
   "metadata": {},
   "outputs": [
    {
     "name": "stdout",
     "output_type": "stream",
     "text": [
      "{'stakeholder': ['vehicle manufacturers', 'system manufacturers', 'component manufacturers', 'technical unit manufacturers'], 'key_information': ['Existing EU type-approvals for vehicles and related systems remain valid unless modified by new requirements.', 'Regulation (EC) No 78/2009 focuses on reducing injuries to pedestrians from vehicle fronts.', 'Regulation (EC) No 79/2009 deals with hydrogen propulsion and systems in vehicles.', 'Regulation (EC) No 661/2009 covers vehicle safety, fuel efficiency, and emissions standards.', 'Changes or additions to requirements by this Regulation and subsequent delegated acts may affect the validity of existing approvals.'], 'chunk_summary': 'Existing EU type-approvals for vehicles, systems, components, and technical units remain valid unless altered by this Regulation or new requirements are added. Specific regulations address pedestrian safety, hydrogen propulsion systems, and vehicle safety and emissions. Manufacturers of these vehicles and systems need to comply with any updated or new requirements specified by delegated and implementing acts.'}\n"
     ]
    }
   ],
   "source": [
    "print(llm.generate_chunk_summary(chunk))"
   ]
  },
  {
   "cell_type": "markdown",
   "metadata": {},
   "source": [
    "### Full Summary\n",
    "As a last step the full workflow is tested. Here, a file is split into chunks, knowledge gets injected, and a final summary is generated. In this example a user without prior knowledge is used."
   ]
  },
  {
   "cell_type": "code",
   "execution_count": 4,
   "metadata": {},
   "outputs": [
    {
     "data": {
      "text/plain": [
       "\"The policy document outlines the obligations of vehicle manufacturers to ensure that new vehicles and components meet stringent safety and environmental standards. It includes detailed definitions and requirements for advanced vehicle systems, tyre pressure monitoring, and the overall performance of vehicles. Stakeholders such as manufacturers, vehicle occupants, and vulnerable road users are directly impacted by these regulations, which aim to enhance road safety and vehicle efficiency.The policy document outlines the obligations of vehicle manufacturers to ensure that new vehicles and components meet stringent safety and environmental standards. It includes detailed definitions and requirements for advanced vehicle systems, tyre pressure monitoring, and the overall performance of vehicles. Stakeholders such as manufacturers, vehicle occupants, and vulnerable road users are directly impacted by these regulations, which aim to enhance road safety and vehicle efficiency. The policy also emphasizes strict privacy and functionality standards for vehicle systems such as driver drowsiness and distraction warning systems, and event data recorders, ensuring they operate within closed-loop systems with high data protection standards. It mandates advanced safety features in vehicles, including emergency braking and lane-keeping systems, to enhance road safety for all users, including vulnerable groups. Additionally, it specifies technical and approval standards for hydrogen-powered vehicles and their components, ensuring safety and compliance throughout their service life. Implementing acts will set uniform procedures and technical specifications for vehicle type-approval, ensuring that all vehicles adhere to these rigorous standards.The policy document outlines comprehensive regulations for vehicle manufacturers, ensuring that new vehicles and components meet stringent safety, environmental, and technical standards. It details obligations for manufacturers to adhere to advanced vehicle systems, tyre pressure monitoring, and overall vehicle performance, impacting stakeholders such as manufacturers, vehicle occupants, and vulnerable road users. The document emphasizes enhancing road safety and vehicle efficiency through mandatory safety features like emergency braking and lane-keeping systems, and strict standards for privacy and functionality in systems such as driver drowsiness and distraction warning systems, and event data recorders. Additionally, it specifies the procedures for adopting implementing and delegated acts concerning technical specifications and approvals for hydrogen-powered, automated, and fully automated vehicles. Key roles are assigned to the European Parliament, Council, and Commission, including the consultation with experts and periodic review and reporting requirements. Member States retain certain permissions regarding vehicle registration and component compliance until specified dates, ensuring a transition period for compliance with new requirements. EU type-approvals granted before 5 July 2022 remain valid unless modified by new requirements, supporting continuity and adaptation in the automotive industry.The policy document provides comprehensive regulations for vehicle manufacturers, ensuring that new vehicles and components meet stringent safety, environmental, and technical standards. It outlines the obligations of vehicle manufacturers to ensure compliance with advanced vehicle systems, tyre pressure monitoring, and overall vehicle performance, impacting stakeholders such as manufacturers, vehicle occupants, and vulnerable road users. The document emphasizes the importance of enhancing road safety and vehicle efficiency through mandatory safety features like emergency braking and lane-keeping systems, and strict standards for privacy and functionality in systems such as driver drowsiness and distraction warning systems, and event data recorders. Additionally, it specifies the procedures for adopting implementing and delegated acts concerning technical specifications and approvals for hydrogen-powered, automated, and fully automated vehicles. Key roles are assigned to the European Parliament, Council, and Commission, including the consultation with experts and periodic review and reporting requirements. Member States retain certain permissions regarding vehicle registration and component compliance until specified dates, ensuring a transition period for compliance with new requirements. EU type-approvals granted before 5 July 2022 remain valid unless modified by new requirements, supporting continuity and adaptation in the automotive industry. The policy also details the compliance requirements for vehicle manufacturers and the responsibilities of national authorities regarding vehicle type-approvals and amendments. It specifies that newer amendments can be accepted as alternatives and details mandatory compliance dates linked to the 'Revised 1958 Agreement'. Additionally, it mentions that certain UN Regulations allow for non-acceptance of previous type-approvals after specified dates and equates certain UN Regulation type-approvals to EU type-approvals. Specific requirements for vehicle systems and components, including stability control and towing capabilities, are also outlined along with key dates for prohibition and type-approval refusal.The policy document provides comprehensive regulations for vehicle manufacturers, ensuring that new vehicles and components meet stringent safety, environmental, and technical standards. It outlines the obligations of vehicle manufacturers to ensure compliance with advanced vehicle systems, tyre pressure monitoring, and overall vehicle performance, impacting stakeholders such as manufacturers, vehicle occupants, and vulnerable road users. The document emphasizes the importance of enhancing road safety and vehicle efficiency through mandatory safety features like emergency braking and lane-keeping systems, and strict standards for privacy and functionality in systems such as driver drowsiness and distraction warning systems, and event data recorders. Additionally, it specifies the procedures for adopting implementing and delegated acts concerning technical specifications and approvals for hydrogen-powered, automated, and fully automated vehicles. Key roles are assigned to the European Parliament, Council, and Commission, including the consultation with experts and periodic review and reporting requirements. Member States retain certain permissions regarding vehicle registration and component compliance until specified dates, ensuring a transition period for compliance with new requirements. EU type-approvals granted before 5 July 2022 remain valid unless modified by new requirements, supporting continuity and adaptation in the automotive industry. The policy also details the compliance requirements for vehicle manufacturers and the responsibilities of national authorities regarding vehicle type-approvals and amendments. It specifies that newer amendments can be accepted as alternatives and details mandatory compliance dates linked to the 'Revised 1958 Agreement'. Additionally, it mentions that certain UN Regulations allow for non-acceptance of previous type-approvals after specified dates and equates certain UN Regulation type-approvals to EU type-approvals. Specific requirements for vehicle systems and components, including stability control and towing capabilities, are also outlined along with key dates for prohibition and type-approval refusal. The document also details amendments to Annex II of Regulation (EU) 2018/858, specifically mentioning the addition of a new entry following item 54A and the modification of entries for items 65 and 66. No specific stakeholders are identified in the text.The policy document provides comprehensive regulations for vehicle manufacturers, ensuring that new vehicles and components meet stringent safety, environmental, and technical standards. It outlines the obligations of vehicle manufacturers to ensure compliance with advanced vehicle systems, tyre pressure monitoring, and overall vehicle performance, impacting stakeholders such as manufacturers, vehicle occupants, and vulnerable road users. The document emphasizes the importance of enhancing road safety and vehicle efficiency through mandatory safety features like emergency braking and lane-keeping systems, and strict standards for privacy and functionality in systems such as driver drowsiness and distraction warning systems, and event data recorders. Additionally, it specifies the procedures for adopting implementing and delegated acts concerning technical specifications and approvals for hydrogen-powered, automated, and fully automated vehicles. Key roles are assigned to the European Parliament, Council, and Commission, including the consultation with experts and periodic review and reporting requirements. Member States retain certain permissions regarding vehicle registration and component compliance until specified dates, ensuring a transition period for compliance with new requirements. EU type-approvals granted before 5 July 2022 remain valid unless modified by new requirements, supporting continuity and adaptation in the automotive industry. The policy also details the compliance requirements for vehicle manufacturers and the responsibilities of national authorities regarding vehicle type-approvals and amendments. It specifies that newer amendments can be accepted as alternatives and details mandatory compliance dates linked to the 'Revised 1958 Agreement'. Additionally, it mentions that certain UN Regulations allow for non-acceptance of previous type-approvals after specified dates and equates certain UN Regulation type-approvals to EU type-approvals. Specific requirements for vehicle systems and components, including stability control and towing capabilities, are also outlined along with key dates for prohibition and type-approval refusal. The document also details amendments to Annex II of Regulation (EU) 2018/858, specifically mentioning the addition of a new entry following item 54A and the modification of entries for items 65 and 66.The policy document provides comprehensive regulations for vehicle manufacturers, ensuring that new vehicles and components meet stringent safety, environmental, and technical standards. It outlines the obligations of vehicle manufacturers to ensure compliance with advanced vehicle systems, tyre pressure monitoring, and overall vehicle performance, impacting stakeholders such as manufacturers, vehicle occupants, and vulnerable road users. The document emphasizes the importance of enhancing road safety and vehicle efficiency through mandatory safety features like emergency braking and lane-keeping systems, and strict standards for privacy and functionality in systems such as driver drowsiness and distraction warning systems, and event data recorders. Additionally, it specifies the procedures for adopting implementing and delegated acts concerning technical specifications and approvals for hydrogen-powered, automated, and fully automated vehicles. Key roles are assigned to the European Parliament, Council, and Commission, including the consultation with experts and periodic review and reporting requirements. Member States retain certain permissions regarding vehicle registration and component compliance until specified dates, ensuring a transition period for compliance with new requirements. EU type-approvals granted before 5 July 2022 remain valid unless modified by new requirements, supporting continuity and adaptation in the automotive industry. The policy also details the compliance requirements for vehicle manufacturers and the responsibilities of national authorities regarding vehicle type-approvals and amendments. It specifies that newer amendments can be accepted as alternatives and details mandatory compliance dates linked to the 'Revised 1958 Agreement'. Additionally, it mentions that certain UN Regulations allow for non-acceptance of previous type-approvals after specified dates and equates certain UN Regulation type-approvals to EU type-approvals. Specific requirements for vehicle systems and components, including stability control and towing capabilities, are also outlined along with key dates for prohibition and type-approval refusal. The document also details amendments to Annex II of Regulation (EU) 2018/858, specifically mentioning the addition of a new entry following item 54A and the modification of entries for items 65 and 66.\""
      ]
     },
     "metadata": {},
     "output_type": "display_data"
    }
   ],
   "source": [
    "with open(\"tmp/CELEX_02019R2144-20220905_EN_TXT.pdf.tei.xml\", \"rb\") as fh:\n",
    "    buf = BytesIO(fh.read())\n",
    "\n",
    "# split the text into chunks\n",
    "docs = load_and_split_text(text=buf.getvalue(), chunk_size=15000, chunk_overlap=0, splitter_type=\"Text Structure\")\n",
    "summarys = []\n",
    "\n",
    "# inject knowledge and generate chunk summaries\n",
    "for i,doc in enumerate(docs):\n",
    "    doc = inject_knowledge(doc)\n",
    "    summarys.append(llm.generate_chunk_summary(doc))\n",
    "\n",
    "# generate full summary for no prior knowledge\n",
    "summary = llm.generate_policy_summary(summarys, knowledge_level=KnowledgeLevel.NO.name)\n",
    "display(summary)"
   ]
  }
 ],
 "metadata": {
  "kernelspec": {
   "display_name": "summarize_env",
   "language": "python",
   "name": "python3"
  },
  "language_info": {
   "codemirror_mode": {
    "name": "ipython",
    "version": 3
   },
   "file_extension": ".py",
   "mimetype": "text/x-python",
   "name": "python",
   "nbconvert_exporter": "python",
   "pygments_lexer": "ipython3",
   "version": "3.12.2"
  }
 },
 "nbformat": 4,
 "nbformat_minor": 2
}
