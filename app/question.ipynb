{
 "cells": [
  {
   "cell_type": "code",
   "execution_count": 1,
   "metadata": {},
   "outputs": [
    {
     "name": "stdout",
     "output_type": "stream",
     "text": [
      "Intel MKL WARNING: Support of Intel(R) Streaming SIMD Extensions 4.2 (Intel(R) SSE4.2) enabled only processors has been deprecated. Intel oneAPI Math Kernel Library 2025.0 will require Intel(R) Advanced Vector Extensions (Intel(R) AVX) instructions.\n",
      "Intel MKL WARNING: Support of Intel(R) Streaming SIMD Extensions 4.2 (Intel(R) SSE4.2) enabled only processors has been deprecated. Intel oneAPI Math Kernel Library 2025.0 will require Intel(R) Advanced Vector Extensions (Intel(R) AVX) instructions.\n"
     ]
    },
    {
     "data": {
      "text/plain": [
       "{'Questions': [{'Question': 'What is the main cause of climate change?',\n",
       "   'answers': ['A. Volcanic activity',\n",
       "    'B. Natural cycles',\n",
       "    'C. Human activities',\n",
       "    \"D. Sun's radiation\"],\n",
       "   'correct_answer': 'C. Human activities'},\n",
       "  {'Question': 'Which of the following is not a greenhouse gas?',\n",
       "   'answers': ['A. Carbon dioxide',\n",
       "    'B. Water vapor',\n",
       "    'C. Nitrogen',\n",
       "    'D. Methane'],\n",
       "   'correct_answer': 'C. Nitrogen'}]}"
      ]
     },
     "execution_count": 1,
     "metadata": {},
     "output_type": "execute_result"
    }
   ],
   "source": [
    "from langchain_core.output_parsers import JsonOutputParser\n",
    "from typing import List\n",
    "from langchain_core.prompts import PromptTemplate\n",
    "from langchain_core.pydantic_v1 import BaseModel, Field\n",
    "from langchain_openai import OpenAI\n",
    "\n",
    "class Question(BaseModel):\n",
    "    Question: str = Field(description=\"question to check the knowledge level\")\n",
    "    answers: list = Field(description=\"list of 4 possible answers, only one is correct, include A, B, C, D before question\")\n",
    "    correct_answer: str = Field(description=\"correct answer\")\n",
    "\n",
    "class Questions(BaseModel):\n",
    "    Questions: List[Question] = Field(description=\"question object\")\n",
    "\n",
    "# And a query intented to prompt a language model to populate the data structure.\n",
    "question_query = \"Your job is to determine the level of knowledge of a user. Given a topic ask 2 multiple choice questions with 4 possible answers each, that help to determine the knowledge level.\"\n",
    "\n",
    "# Set up a parser + inject instructions into the prompt template.\n",
    "parser = JsonOutputParser(pydantic_object=Questions)\n",
    "\n",
    "prompt = PromptTemplate(\n",
    "    template=\"The topic is {topic}.\\n{format_instructions}\\n{query}\\n\",\n",
    "    input_variables=[\"query\", \"topic\"],\n",
    "    partial_variables={\"format_instructions\": parser.get_format_instructions()},\n",
    ")\n",
    "\n",
    "llm = OpenAI(openai_api_key=\"KEY\")\n",
    "\n",
    "chain = prompt | llm | parser\n",
    "topic = 'climate change'\n",
    "\n",
    "chain.invoke({\"query\": question_query, \"topic\": topic})"
   ]
  }
 ],
 "metadata": {
  "kernelspec": {
   "display_name": "summarize_env",
   "language": "python",
   "name": "python3"
  },
  "language_info": {
   "codemirror_mode": {
    "name": "ipython",
    "version": 3
   },
   "file_extension": ".py",
   "mimetype": "text/x-python",
   "name": "python",
   "nbconvert_exporter": "python",
   "pygments_lexer": "ipython3",
   "version": "3.12.2"
  }
 },
 "nbformat": 4,
 "nbformat_minor": 2
}
