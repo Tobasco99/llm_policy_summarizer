{
 "cells": [
  {
   "cell_type": "markdown",
   "metadata": {},
   "source": [
    "This Regulation shall not invalidate any EU type-approvals granted to vehicles, systems, components or separate technical units which were granted in accordance with Regulation (EC) No 78/2009, Regulation (EC) No 79/2009 or Regulation (EC) No 661/2009 and their implementing measures, by 5 July 2022, unless the relevant requirements applying to such vehicles, systems, components or separate technical units have been modified, or new requirements have been added, by this Regulation and the delegated acts adopted pursuant to it, as further specified in the implementing acts adopted pursuant to this Regulation."
   ]
  },
  {
   "cell_type": "code",
   "execution_count": 2,
   "metadata": {},
   "outputs": [
    {
     "name": "stdout",
     "output_type": "stream",
     "text": [
      "1. This Regulation shall not invalidate any EU type-approvals granted to vehicles, systems, components or separate technical units which were granted in accordance with Regulation (EC) No <ent>78/2009</ent><ent_desc>This Regulation lays down requirements for the construction and functioning of motor vehicles and frontal protection systems in order to reduce the number and severity of injuries to pedestrians and other vulnerable road users who are hit by the fronts of vehicles and in order to avoid such collisions.</ent_desc>, Regulation (EC) No <ent>79/2009</ent><ent_desc>This Regulation establishes requirements for the type-approval of motor vehicles with regard to hydrogen propulsion and for the type-approval of hydrogen components and hydrogen systems. This Regulation also establishes requirements for the installation of such components and systems.</ent_desc> or Regulation (EC) No <ent>661/2009</ent><ent_desc>This Regulation establishes requirements: 1. for the type-approval of motor vehicles, their trailers and systems, components and separate technical units intended therefor with regard to their safety, 2. for the type-approval of motor vehicles, in respect of tyre pressure monitoring systems, with regard to their safety, fuel efficiency and CO2 emissions and, in respect of gear shift indicators, with regard to their fuel efficiency and CO2 emissions; and 3. for the type-approval of newly-manufactured tyres with regard to their safety, rolling resistance performance and rolling noise emissions.</ent_desc> and their implementing measures, by 5 July 2022, unless the relevant requirements applying to such vehicles, systems, components or separate technical units have been modified, or new requirements have been added, by this Regulation and the delegated acts adopted pursuant to it, as further specified in the implementing acts adopted pursuant to this Regulation.\n"
     ]
    }
   ],
   "source": [
    "from service.knowledge_injection import inject_knowledge\n",
    "chunk = \"1. This Regulation shall not invalidate any EU type-approvals granted to vehicles, systems, components or separate technical units which were granted in accordance with Regulation (EC) No 78/2009, Regulation (EC) No 79/2009 or Regulation (EC) No 661/2009 and their implementing measures, by 5 July 2022, unless the relevant requirements applying to such vehicles, systems, components or separate technical units have been modified, or new requirements have been added, by this Regulation and the delegated acts adopted pursuant to it, as further specified in the implementing acts adopted pursuant to this Regulation.\"\n",
    "#print(__extract_slash_notation(chunk))\n",
    "print(inject_knowledge(chunk))\n",
    "    "
   ]
  },
  {
   "cell_type": "markdown",
   "metadata": {},
   "source": [
    "1. This Regulation shall not invalidate any EU type-approvals granted to vehicles, systems, components or separate technical units which were granted in accordance with Regulation (EC) No <ent>78/2009</ent><ent_desc>This Regulation lays down requirements for the construction and functioning of motor vehicles and frontal protection systems in order to reduce the number and severity of injuries to pedestrians and other vulnerable road users who are hit by the fronts of vehicles and in order to avoid such collisions.</ent_desc>, Regulation (EC) No <ent>79/2009</ent><ent_desc>This Regulation establishes requirements for the type-approval of motor vehicles with regard to hydrogen propulsion and for the type-approval of hydrogen components and hydrogen systems. This Regulation also establishes requirements for the installation of such components and systems.</ent_desc> or Regulation (EC) No <ent>661/2009</ent><ent_desc>This Regulation establishes requirements: 1. for the type-approval of motor vehicles, their trailers and systems, components and separate technical units intended therefor with regard to their safety, 2. for the type-approval of motor vehicles, in respect of tyre pressure monitoring systems, with regard to their safety, fuel efficiency and CO2 emissions and, in respect of gear shift indicators, with regard to their fuel efficiency and CO2 emissions; and 3. for the type-approval of newly-manufactured tyres with regard to their safety, rolling resistance performance and rolling noise emissions.</ent_desc> and their implementing measures, by 5 July 2022, unless the relevant requirements applying to such vehicles, systems, components or separate technical units have been modified, or new requirements have been added, by this Regulation and the delegated acts adopted pursuant to it, as further specified in the implementing acts adopted pursuant to this Regulation.\n",
    "\n"
   ]
  },
  {
   "cell_type": "code",
   "execution_count": 1,
   "metadata": {},
   "outputs": [
    {
     "name": "stdout",
     "output_type": "stream",
     "text": [
      "Intel MKL WARNING: Support of Intel(R) Streaming SIMD Extensions 4.2 (Intel(R) SSE4.2) enabled only processors has been deprecated. Intel oneAPI Math Kernel Library 2025.0 will require Intel(R) Advanced Vector Extensions (Intel(R) AVX) instructions.\n",
      "Intel MKL WARNING: Support of Intel(R) Streaming SIMD Extensions 4.2 (Intel(R) SSE4.2) enabled only processors has been deprecated. Intel oneAPI Math Kernel Library 2025.0 will require Intel(R) Advanced Vector Extensions (Intel(R) AVX) instructions.\n",
      "Schema knowledge does not exist, creating schema...\n",
      "Entity not found: 78/2009\n",
      "Entity not found: 79/2009\n",
      "Entity not found: 661/2009\n",
      "1. This Regulation shall not invalidate any EU type-approvals granted to vehicles, systems, components or separate technical units which were granted in accordance with Regulation (EC) No <ent>78/2009</ent><ent_desc>This Regulation lays down requirements for the construction and functioning of motor vehicles and frontal protection systems in order to reduce the number and severity of injuries to pedestrians and other vulnerable road users who are hit by the fronts of vehicles and in order to avoid such collisions.</ent_desc>, Regulation (EC) No <ent>79/2009</ent><ent_desc>This Regulation establishes requirements for the type-approval of motor vehicles with regard to hydrogen propulsion and for the type-approval of hydrogen components and hydrogen systems. This Regulation also establishes requirements for the installation of such components and systems.</ent_desc> or Regulation (EC) No <ent>661/2009</ent><ent_desc>This Regulation establishes requirements: 1. for the type-approval of motor vehicles, their trailers and systems, components and separate technical units intended therefor with regard to their safety, 2. for the type-approval of motor vehicles, in respect of tyre pressure monitoring systems, with regard to their safety, fuel efficiency and CO2 emissions and, in respect of gear shift indicators, with regard to their fuel efficiency and CO2 emissions; and 3. for the type-approval of newly-manufactured tyres with regard to their safety, rolling resistance performance and rolling noise emissions.</ent_desc> and their implementing measures, by 5 July 2022, unless the relevant requirements applying to such vehicles, systems, components or separate technical units have been modified, or new requirements have been added, by this Regulation and the delegated acts adopted pursuant to it, as further specified in the implementing acts adopted pursuant to this Regulation.\n"
     ]
    }
   ],
   "source": [
    "from service.knowledge_injection import inject_knowledge\n",
    "chunk = \"1. This Regulation shall not invalidate any EU type-approvals granted to vehicles, systems, components or separate technical units which were granted in accordance with Regulation (EC) No 78/2009, Regulation (EC) No 79/2009 or Regulation (EC) No 661/2009 and their implementing measures, by 5 July 2022, unless the relevant requirements applying to such vehicles, systems, components or separate technical units have been modified, or new requirements have been added, by this Regulation and the delegated acts adopted pursuant to it, as further specified in the implementing acts adopted pursuant to this Regulation.\"\n",
    "#print(__extract_slash_notation(chunk))\n",
    "print(inject_knowledge(chunk))"
   ]
  },
  {
   "cell_type": "markdown",
   "metadata": {},
   "source": [
    "1. This Regulation shall not invalidate any EU type-approvals granted to vehicles, systems, components or separate technical units which were granted in accordance with Regulation (EC) No <ent>78/2009</ent><ent_desc>This Regulation lays down requirements for the construction and functioning of motor vehicles and frontal protection systems in order to reduce the number and severity of injuries to pedestrians and other vulnerable road users who are hit by the fronts of vehicles and in order to avoid such collisions.</ent_desc>, Regulation (EC) No <ent>79/2009</ent><ent_desc>This Regulation establishes requirements for the type-approval of motor vehicles with regard to hydrogen propulsion and for the type-approval of hydrogen components and hydrogen systems. This Regulation also establishes requirements for the installation of such components and systems.</ent_desc> or Regulation (EC) No <ent>661/2009</ent><ent_desc>This Regulation establishes requirements: 1. for the type-approval of motor vehicles, their trailers and systems, components and separate technical units intended therefor with regard to their safety, 2. for the type-approval of motor vehicles, in respect of tyre pressure monitoring systems, with regard to their safety, fuel efficiency and CO2 emissions and, in respect of gear shift indicators, with regard to their fuel efficiency and CO2 emissions; and 3. for the type-approval of newly-manufactured tyres with regard to their safety, rolling resistance performance and rolling noise emissions.</ent_desc> and their implementing measures, by 5 July 2022, unless the relevant requirements applying to such vehicles, systems, components or separate technical units have been modified, or new requirements have been added, by this Regulation and the delegated acts adopted pursuant to it, as further specified in the implementing acts adopted pursuant to this Regulation.\n"
   ]
  }
 ],
 "metadata": {
  "kernelspec": {
   "display_name": "summarize_env",
   "language": "python",
   "name": "python3"
  },
  "language_info": {
   "codemirror_mode": {
    "name": "ipython",
    "version": 3
   },
   "file_extension": ".py",
   "mimetype": "text/x-python",
   "name": "python",
   "nbconvert_exporter": "python",
   "pygments_lexer": "ipython3",
   "version": "3.12.2"
  }
 },
 "nbformat": 4,
 "nbformat_minor": 2
}
