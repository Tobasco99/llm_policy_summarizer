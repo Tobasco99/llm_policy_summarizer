{
 "cells": [
  {
   "cell_type": "markdown",
   "metadata": {},
   "source": [
    "This Regulation shall not invalidate any EU type-approvals granted to vehicles, systems, components or separate technical units which were granted in accordance with Regulation (EC) No 78/2009, Regulation (EC) No 79/2009 or Regulation (EC) No 661/2009 and their implementing measures, by 5 July 2022, unless the relevant requirements applying to such vehicles, systems, components or separate technical units have been modified, or new requirements have been added, by this Regulation and the delegated acts adopted pursuant to it, as further specified in the implementing acts adopted pursuant to this Regulation."
   ]
  },
  {
   "cell_type": "code",
   "execution_count": 1,
   "metadata": {},
   "outputs": [
    {
     "name": "stdout",
     "output_type": "stream",
     "text": [
      "['78/2009', '79/2009', '61/2009']\n"
     ]
    }
   ],
   "source": [
    "import re\n",
    "import eurlex\n",
    "chunk = \"1. This Regulation shall not invalidate any EU type-approvals granted to vehicles, systems, components or separate technical units which were granted in accordance with Regulation (EC) No 78/2009, Regulation (EC) No 79/2009 or Regulation (EC) No 661/2009 and their implementing measures, by 5 July 2022, unless the relevant requirements applying to such vehicles, systems, components or separate technical units have been modified, or new requirements have been added, by this Regulation and the delegated acts adopted pursuant to it, as further specified in the implementing acts adopted pursuant to this Regulation.\"\n",
    "\n",
    "def inject_knowledge(chunk):\n",
    "    matches = __extract_slash_notation(chunk)\n",
    "    knowledge_dict = create_knowledge_dict(matches)\n",
    "    for slash_notation, content in knowledge_dict.items():\n",
    "        chunk = chunk.replace(slash_notation, f\"<knowledge>{content}</knowledge>\")\n",
    "    return chunk\n",
    "\n",
    "def __extract_slash_notation(text):\n",
    "    pattern = r'\\d{1,2}/\\d{4}'\n",
    "    matches = re.findall(pattern, text)\n",
    "    return matches\n",
    "\n",
    "def __get_abstract(html):\n",
    "    #todo send to llm to get abstract summary\n",
    "    return \"abstract\"\n",
    "\n",
    "matches = __extract_slash_notation(chunk)\n",
    "print(matches)\n",
    "\n",
    "def create_knowledge_dict(slash_notations):\n",
    "    knowledge_dict = {}\n",
    "    for slash_notation in slash_notations:\n",
    "        celex = eurlex.get_celex_id(slash_notation=slash_notation)\n",
    "        html = eurlex.get_html_by_celex_id(celex)\n",
    "        content = __get_abstract(html)\n",
    "        knowledge_dict[slash_notation] = content\n",
    "    return knowledge_dict\n",
    "        \n",
    "    "
   ]
  }
 ],
 "metadata": {
  "kernelspec": {
   "display_name": "summarize_env",
   "language": "python",
   "name": "python3"
  },
  "language_info": {
   "codemirror_mode": {
    "name": "ipython",
    "version": 3
   },
   "file_extension": ".py",
   "mimetype": "text/x-python",
   "name": "python",
   "nbconvert_exporter": "python",
   "pygments_lexer": "ipython3",
   "version": "3.11.8"
  }
 },
 "nbformat": 4,
 "nbformat_minor": 2
}
